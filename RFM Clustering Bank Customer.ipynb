{
 "cells": [
  {
   "cell_type": "code",
   "execution_count": 1,
   "id": "54e81b63",
   "metadata": {},
   "outputs": [],
   "source": [
    "import numpy as np\n",
    "import pandas as pd\n",
    "import matplotlib.pyplot as plt\n",
    "import seaborn as sns\n",
    "import datetime"
   ]
  },
  {
   "cell_type": "markdown",
   "id": "aeab8930",
   "metadata": {},
   "source": [
    "# **1. Import Data**"
   ]
  },
  {
   "cell_type": "markdown",
   "id": "a4c2026d",
   "metadata": {},
   "source": [
    "## 1.1. Load Data"
   ]
  },
  {
   "cell_type": "code",
   "execution_count": 2,
   "id": "9999ff27",
   "metadata": {},
   "outputs": [],
   "source": [
    "# fungsi baca data\n",
    "def read_data(path):\n",
    "    # 1. Baca data\n",
    "    data = pd.read_csv(path,\n",
    "                       index_col = 0,\n",
    "                       low_memory = False)\n",
    "    \n",
    "    # 2. Data shape awal\n",
    "    print('Data shape awal:', data.shape)\n",
    "    \n",
    "    # 3. Drop duplicate\n",
    "    data = data.drop_duplicates()\n",
    "\n",
    "    # 4. Data shape akhir\n",
    "    print('Data shape distinct:', data.shape)\n",
    "\n",
    "    return data"
   ]
  },
  {
   "cell_type": "code",
   "execution_count": 3,
   "id": "25e32131",
   "metadata": {},
   "outputs": [
    {
     "name": "stdout",
     "output_type": "stream",
     "text": [
      "Data shape awal: (1048567, 8)\n",
      "Data shape distinct: (1048567, 8)\n"
     ]
    }
   ],
   "source": [
    "data = read_data(path = 'bank_transactions.csv')"
   ]
  },
  {
   "cell_type": "code",
   "execution_count": 4,
   "id": "02828e70",
   "metadata": {
    "scrolled": true
   },
   "outputs": [
    {
     "data": {
      "text/html": [
       "<div>\n",
       "<style scoped>\n",
       "    .dataframe tbody tr th:only-of-type {\n",
       "        vertical-align: middle;\n",
       "    }\n",
       "\n",
       "    .dataframe tbody tr th {\n",
       "        vertical-align: top;\n",
       "    }\n",
       "\n",
       "    .dataframe thead th {\n",
       "        text-align: right;\n",
       "    }\n",
       "</style>\n",
       "<table border=\"1\" class=\"dataframe\">\n",
       "  <thead>\n",
       "    <tr style=\"text-align: right;\">\n",
       "      <th></th>\n",
       "      <th>TransactionID</th>\n",
       "      <th>CustomerID</th>\n",
       "      <th>CustomerDOB</th>\n",
       "      <th>CustGender</th>\n",
       "      <th>CustLocation</th>\n",
       "      <th>CustAccountBalance</th>\n",
       "      <th>TransactionDate</th>\n",
       "      <th>TransactionTime</th>\n",
       "      <th>TransactionAmount (INR)</th>\n",
       "    </tr>\n",
       "  </thead>\n",
       "  <tbody>\n",
       "    <tr>\n",
       "      <th>0</th>\n",
       "      <td>T1</td>\n",
       "      <td>C5841053</td>\n",
       "      <td>10/1/94</td>\n",
       "      <td>F</td>\n",
       "      <td>JAMSHEDPUR</td>\n",
       "      <td>17819.05</td>\n",
       "      <td>2/8/16</td>\n",
       "      <td>143207</td>\n",
       "      <td>25.0</td>\n",
       "    </tr>\n",
       "    <tr>\n",
       "      <th>1</th>\n",
       "      <td>T2</td>\n",
       "      <td>C2142763</td>\n",
       "      <td>4/4/57</td>\n",
       "      <td>M</td>\n",
       "      <td>JHAJJAR</td>\n",
       "      <td>2270.69</td>\n",
       "      <td>2/8/16</td>\n",
       "      <td>141858</td>\n",
       "      <td>27999.0</td>\n",
       "    </tr>\n",
       "    <tr>\n",
       "      <th>2</th>\n",
       "      <td>T3</td>\n",
       "      <td>C4417068</td>\n",
       "      <td>26/11/96</td>\n",
       "      <td>F</td>\n",
       "      <td>MUMBAI</td>\n",
       "      <td>17874.44</td>\n",
       "      <td>2/8/16</td>\n",
       "      <td>142712</td>\n",
       "      <td>459.0</td>\n",
       "    </tr>\n",
       "    <tr>\n",
       "      <th>3</th>\n",
       "      <td>T4</td>\n",
       "      <td>C5342380</td>\n",
       "      <td>14/9/73</td>\n",
       "      <td>F</td>\n",
       "      <td>MUMBAI</td>\n",
       "      <td>866503.21</td>\n",
       "      <td>2/8/16</td>\n",
       "      <td>142714</td>\n",
       "      <td>2060.0</td>\n",
       "    </tr>\n",
       "    <tr>\n",
       "      <th>4</th>\n",
       "      <td>T5</td>\n",
       "      <td>C9031234</td>\n",
       "      <td>24/3/88</td>\n",
       "      <td>F</td>\n",
       "      <td>NAVI MUMBAI</td>\n",
       "      <td>6714.43</td>\n",
       "      <td>2/8/16</td>\n",
       "      <td>181156</td>\n",
       "      <td>1762.5</td>\n",
       "    </tr>\n",
       "  </tbody>\n",
       "</table>\n",
       "</div>"
      ],
      "text/plain": [
       "  TransactionID CustomerID CustomerDOB CustGender CustLocation  \\\n",
       "0            T1   C5841053     10/1/94          F   JAMSHEDPUR   \n",
       "1            T2   C2142763      4/4/57          M      JHAJJAR   \n",
       "2            T3   C4417068    26/11/96          F       MUMBAI   \n",
       "3            T4   C5342380     14/9/73          F       MUMBAI   \n",
       "4            T5   C9031234     24/3/88          F  NAVI MUMBAI   \n",
       "\n",
       "   CustAccountBalance TransactionDate  TransactionTime  \\\n",
       "0            17819.05          2/8/16           143207   \n",
       "1             2270.69          2/8/16           141858   \n",
       "2            17874.44          2/8/16           142712   \n",
       "3           866503.21          2/8/16           142714   \n",
       "4             6714.43          2/8/16           181156   \n",
       "\n",
       "   TransactionAmount (INR)  \n",
       "0                     25.0  \n",
       "1                  27999.0  \n",
       "2                    459.0  \n",
       "3                   2060.0  \n",
       "4                   1762.5  "
      ]
     },
     "execution_count": 4,
     "metadata": {},
     "output_type": "execute_result"
    }
   ],
   "source": [
    "data.reset_index(inplace = True)\n",
    "data.head()"
   ]
  },
  {
   "cell_type": "code",
   "execution_count": 5,
   "id": "d2cab370",
   "metadata": {
    "scrolled": true
   },
   "outputs": [
    {
     "data": {
      "text/html": [
       "<div>\n",
       "<style scoped>\n",
       "    .dataframe tbody tr th:only-of-type {\n",
       "        vertical-align: middle;\n",
       "    }\n",
       "\n",
       "    .dataframe tbody tr th {\n",
       "        vertical-align: top;\n",
       "    }\n",
       "\n",
       "    .dataframe thead th {\n",
       "        text-align: right;\n",
       "    }\n",
       "</style>\n",
       "<table border=\"1\" class=\"dataframe\">\n",
       "  <thead>\n",
       "    <tr style=\"text-align: right;\">\n",
       "      <th></th>\n",
       "      <th>TransactionID</th>\n",
       "      <th>CustomerID</th>\n",
       "      <th>CustomerDOB</th>\n",
       "      <th>CustGender</th>\n",
       "      <th>CustLocation</th>\n",
       "      <th>CustAccountBalance</th>\n",
       "      <th>TransactionDate</th>\n",
       "      <th>TransactionTime</th>\n",
       "      <th>TransactionAmount</th>\n",
       "    </tr>\n",
       "  </thead>\n",
       "  <tbody>\n",
       "    <tr>\n",
       "      <th>0</th>\n",
       "      <td>T1</td>\n",
       "      <td>C5841053</td>\n",
       "      <td>10/1/94</td>\n",
       "      <td>F</td>\n",
       "      <td>JAMSHEDPUR</td>\n",
       "      <td>17819.05</td>\n",
       "      <td>2/8/16</td>\n",
       "      <td>143207</td>\n",
       "      <td>25.0</td>\n",
       "    </tr>\n",
       "    <tr>\n",
       "      <th>1</th>\n",
       "      <td>T2</td>\n",
       "      <td>C2142763</td>\n",
       "      <td>4/4/57</td>\n",
       "      <td>M</td>\n",
       "      <td>JHAJJAR</td>\n",
       "      <td>2270.69</td>\n",
       "      <td>2/8/16</td>\n",
       "      <td>141858</td>\n",
       "      <td>27999.0</td>\n",
       "    </tr>\n",
       "    <tr>\n",
       "      <th>2</th>\n",
       "      <td>T3</td>\n",
       "      <td>C4417068</td>\n",
       "      <td>26/11/96</td>\n",
       "      <td>F</td>\n",
       "      <td>MUMBAI</td>\n",
       "      <td>17874.44</td>\n",
       "      <td>2/8/16</td>\n",
       "      <td>142712</td>\n",
       "      <td>459.0</td>\n",
       "    </tr>\n",
       "    <tr>\n",
       "      <th>3</th>\n",
       "      <td>T4</td>\n",
       "      <td>C5342380</td>\n",
       "      <td>14/9/73</td>\n",
       "      <td>F</td>\n",
       "      <td>MUMBAI</td>\n",
       "      <td>866503.21</td>\n",
       "      <td>2/8/16</td>\n",
       "      <td>142714</td>\n",
       "      <td>2060.0</td>\n",
       "    </tr>\n",
       "    <tr>\n",
       "      <th>4</th>\n",
       "      <td>T5</td>\n",
       "      <td>C9031234</td>\n",
       "      <td>24/3/88</td>\n",
       "      <td>F</td>\n",
       "      <td>NAVI MUMBAI</td>\n",
       "      <td>6714.43</td>\n",
       "      <td>2/8/16</td>\n",
       "      <td>181156</td>\n",
       "      <td>1762.5</td>\n",
       "    </tr>\n",
       "  </tbody>\n",
       "</table>\n",
       "</div>"
      ],
      "text/plain": [
       "  TransactionID CustomerID CustomerDOB CustGender CustLocation  \\\n",
       "0            T1   C5841053     10/1/94          F   JAMSHEDPUR   \n",
       "1            T2   C2142763      4/4/57          M      JHAJJAR   \n",
       "2            T3   C4417068    26/11/96          F       MUMBAI   \n",
       "3            T4   C5342380     14/9/73          F       MUMBAI   \n",
       "4            T5   C9031234     24/3/88          F  NAVI MUMBAI   \n",
       "\n",
       "   CustAccountBalance TransactionDate  TransactionTime  TransactionAmount  \n",
       "0            17819.05          2/8/16           143207               25.0  \n",
       "1             2270.69          2/8/16           141858            27999.0  \n",
       "2            17874.44          2/8/16           142712              459.0  \n",
       "3           866503.21          2/8/16           142714             2060.0  \n",
       "4             6714.43          2/8/16           181156             1762.5  "
      ]
     },
     "execution_count": 5,
     "metadata": {},
     "output_type": "execute_result"
    }
   ],
   "source": [
    "# rename kolom untuk memudahkan\n",
    "data.rename(columns={'TransactionAmount (INR)': 'TransactionAmount'}, inplace=True)\n",
    "data.head()"
   ]
  },
  {
   "cell_type": "markdown",
   "id": "c76a5376",
   "metadata": {},
   "source": [
    "## 1.2. Check Data Type"
   ]
  },
  {
   "cell_type": "code",
   "execution_count": 6,
   "id": "2310a6db",
   "metadata": {},
   "outputs": [
    {
     "data": {
      "text/plain": [
       "TransactionID          object\n",
       "CustomerID             object\n",
       "CustomerDOB            object\n",
       "CustGender             object\n",
       "CustLocation           object\n",
       "CustAccountBalance    float64\n",
       "TransactionDate        object\n",
       "TransactionTime         int64\n",
       "TransactionAmount     float64\n",
       "dtype: object"
      ]
     },
     "execution_count": 6,
     "metadata": {},
     "output_type": "execute_result"
    }
   ],
   "source": [
    "data.dtypes"
   ]
  },
  {
   "cell_type": "code",
   "execution_count": 7,
   "id": "f2ea9342",
   "metadata": {},
   "outputs": [
    {
     "data": {
      "text/plain": [
       "TransactionID                 object\n",
       "CustomerID                    object\n",
       "CustomerDOB                   object\n",
       "CustGender                    object\n",
       "CustLocation                  object\n",
       "CustAccountBalance           float64\n",
       "TransactionDate       datetime64[ns]\n",
       "TransactionTime                int64\n",
       "TransactionAmount            float64\n",
       "dtype: object"
      ]
     },
     "execution_count": 7,
     "metadata": {},
     "output_type": "execute_result"
    }
   ],
   "source": [
    "# ubah data type tanggal\n",
    "data['TransactionDate'] = pd.to_datetime(data['TransactionDate'])\n",
    "data.dtypes"
   ]
  },
  {
   "cell_type": "markdown",
   "id": "a76ec330",
   "metadata": {},
   "source": [
    "# 2. Exploratory Data Analysis"
   ]
  },
  {
   "cell_type": "code",
   "execution_count": 8,
   "id": "0c971de3",
   "metadata": {},
   "outputs": [
    {
     "name": "stdout",
     "output_type": "stream",
     "text": [
      "Data shape sumber: (1048567, 9)\n",
      "Data shape EDA   : (1048567, 9)\n"
     ]
    }
   ],
   "source": [
    "# copy data\n",
    "eda_data = data.copy()\n",
    "\n",
    "# validasi data shape sama\n",
    "print('Data shape sumber:', data.shape)\n",
    "print('Data shape EDA   :', eda_data.shape)"
   ]
  },
  {
   "cell_type": "markdown",
   "id": "135e7995",
   "metadata": {},
   "source": [
    "## 2.1. Data Descriptions"
   ]
  },
  {
   "cell_type": "code",
   "execution_count": 9,
   "id": "303c22b3",
   "metadata": {},
   "outputs": [
    {
     "data": {
      "text/html": [
       "<div>\n",
       "<style scoped>\n",
       "    .dataframe tbody tr th:only-of-type {\n",
       "        vertical-align: middle;\n",
       "    }\n",
       "\n",
       "    .dataframe tbody tr th {\n",
       "        vertical-align: top;\n",
       "    }\n",
       "\n",
       "    .dataframe thead th {\n",
       "        text-align: right;\n",
       "    }\n",
       "</style>\n",
       "<table border=\"1\" class=\"dataframe\">\n",
       "  <thead>\n",
       "    <tr style=\"text-align: right;\">\n",
       "      <th></th>\n",
       "      <th>CustAccountBalance</th>\n",
       "      <th>TransactionTime</th>\n",
       "      <th>TransactionAmount</th>\n",
       "    </tr>\n",
       "  </thead>\n",
       "  <tbody>\n",
       "    <tr>\n",
       "      <th>count</th>\n",
       "      <td>1.046198e+06</td>\n",
       "      <td>1.048567e+06</td>\n",
       "      <td>1.048567e+06</td>\n",
       "    </tr>\n",
       "    <tr>\n",
       "      <th>mean</th>\n",
       "      <td>1.154035e+05</td>\n",
       "      <td>1.570875e+05</td>\n",
       "      <td>1.574335e+03</td>\n",
       "    </tr>\n",
       "    <tr>\n",
       "      <th>std</th>\n",
       "      <td>8.464854e+05</td>\n",
       "      <td>5.126185e+04</td>\n",
       "      <td>6.574743e+03</td>\n",
       "    </tr>\n",
       "    <tr>\n",
       "      <th>min</th>\n",
       "      <td>0.000000e+00</td>\n",
       "      <td>0.000000e+00</td>\n",
       "      <td>0.000000e+00</td>\n",
       "    </tr>\n",
       "    <tr>\n",
       "      <th>25%</th>\n",
       "      <td>4.721760e+03</td>\n",
       "      <td>1.240300e+05</td>\n",
       "      <td>1.610000e+02</td>\n",
       "    </tr>\n",
       "    <tr>\n",
       "      <th>50%</th>\n",
       "      <td>1.679218e+04</td>\n",
       "      <td>1.642260e+05</td>\n",
       "      <td>4.590300e+02</td>\n",
       "    </tr>\n",
       "    <tr>\n",
       "      <th>75%</th>\n",
       "      <td>5.765736e+04</td>\n",
       "      <td>2.000100e+05</td>\n",
       "      <td>1.200000e+03</td>\n",
       "    </tr>\n",
       "    <tr>\n",
       "      <th>max</th>\n",
       "      <td>1.150355e+08</td>\n",
       "      <td>2.359590e+05</td>\n",
       "      <td>1.560035e+06</td>\n",
       "    </tr>\n",
       "  </tbody>\n",
       "</table>\n",
       "</div>"
      ],
      "text/plain": [
       "       CustAccountBalance  TransactionTime  TransactionAmount\n",
       "count        1.046198e+06     1.048567e+06       1.048567e+06\n",
       "mean         1.154035e+05     1.570875e+05       1.574335e+03\n",
       "std          8.464854e+05     5.126185e+04       6.574743e+03\n",
       "min          0.000000e+00     0.000000e+00       0.000000e+00\n",
       "25%          4.721760e+03     1.240300e+05       1.610000e+02\n",
       "50%          1.679218e+04     1.642260e+05       4.590300e+02\n",
       "75%          5.765736e+04     2.000100e+05       1.200000e+03\n",
       "max          1.150355e+08     2.359590e+05       1.560035e+06"
      ]
     },
     "execution_count": 9,
     "metadata": {},
     "output_type": "execute_result"
    }
   ],
   "source": [
    "eda_data.describe()"
   ]
  },
  {
   "cell_type": "markdown",
   "id": "4a5eea6d",
   "metadata": {},
   "source": [
    "## 2.2. Checking Missing Values"
   ]
  },
  {
   "cell_type": "code",
   "execution_count": 10,
   "id": "b782822b",
   "metadata": {
    "scrolled": true
   },
   "outputs": [
    {
     "data": {
      "text/plain": [
       "TransactionID            0\n",
       "CustomerID               0\n",
       "CustomerDOB           3397\n",
       "CustGender            1100\n",
       "CustLocation           151\n",
       "CustAccountBalance    2369\n",
       "TransactionDate          0\n",
       "TransactionTime          0\n",
       "TransactionAmount        0\n",
       "dtype: int64"
      ]
     },
     "execution_count": 10,
     "metadata": {},
     "output_type": "execute_result"
    }
   ],
   "source": [
    "eda_data.isna().sum()"
   ]
  },
  {
   "cell_type": "markdown",
   "id": "b86edea2",
   "metadata": {},
   "source": [
    "Kolom yang memiliki missing values tidak digunakan dalam segmentasi sehingga bisa diabaikan."
   ]
  },
  {
   "cell_type": "markdown",
   "id": "7e1a27e4",
   "metadata": {},
   "source": [
    "## 2.3. Checking CustomerID"
   ]
  },
  {
   "cell_type": "code",
   "execution_count": 11,
   "id": "70434c5c",
   "metadata": {},
   "outputs": [
    {
     "data": {
      "text/plain": [
       "884265"
      ]
     },
     "execution_count": 11,
     "metadata": {},
     "output_type": "execute_result"
    }
   ],
   "source": [
    "# jumlah distinct customerID\n",
    "len(set(eda_data['CustomerID']))"
   ]
  },
  {
   "cell_type": "markdown",
   "id": "18ecbdb6",
   "metadata": {},
   "source": [
    "## 2.4. Checking TransactionDate "
   ]
  },
  {
   "cell_type": "code",
   "execution_count": 12,
   "id": "0075a988",
   "metadata": {},
   "outputs": [
    {
     "name": "stdout",
     "output_type": "stream",
     "text": [
      "First Transaction : 2016-01-08 00:00:00\n",
      "Last Transaction  : 2016-12-09 00:00:00\n"
     ]
    }
   ],
   "source": [
    "# rentang tanggal transaksi\n",
    "print(f'First Transaction : {str(eda_data[\"TransactionDate\"].min())}')\n",
    "print(f'Last Transaction  : {str(eda_data[\"TransactionDate\"].max())}')"
   ]
  },
  {
   "cell_type": "markdown",
   "id": "01b2bb6a",
   "metadata": {},
   "source": [
    "Dataset berisi data transaksi selama 1 tahun di 2016."
   ]
  },
  {
   "cell_type": "markdown",
   "id": "06d4ac51",
   "metadata": {},
   "source": [
    "## 2.5. Creating RFM Features"
   ]
  },
  {
   "cell_type": "code",
   "execution_count": 13,
   "id": "2a5a760e",
   "metadata": {},
   "outputs": [
    {
     "data": {
      "text/plain": [
       "Timestamp('2021-12-31 00:00:00')"
      ]
     },
     "execution_count": 13,
     "metadata": {},
     "output_type": "execute_result"
    }
   ],
   "source": [
    "# set \"current\" date (reference date)\n",
    "current_date = pd.to_datetime('2021-12-31')\n",
    "current_date"
   ]
  },
  {
   "cell_type": "code",
   "execution_count": 14,
   "id": "87e21f8f",
   "metadata": {},
   "outputs": [],
   "source": [
    "# define functions\n",
    "def calculate_recency(dt):\n",
    "    return (current_date - dt.max()).days\n",
    "\n",
    "def calculate_tenure(dt):\n",
    "    return (dt.max() - dt.min()).days\n",
    "\n",
    "def calculate_frequency(dt):\n",
    "    return len(set(dt))\n",
    "\n",
    "def generate_rfmts(data):\n",
    "    # 1. RFM groupby by CustomerID\n",
    "    agg_dict = {\n",
    "        'TransactionDate': [calculate_recency, calculate_tenure],\n",
    "        'TransactionID': calculate_frequency,\n",
    "        'TransactionAmount': 'sum'\n",
    "    }\n",
    "    data_rfmts = data.groupby('CustomerID').agg(agg_dict)\n",
    "\n",
    "    # 2. Rename columns\n",
    "    data_rfmts.columns = ['Recency', 'Tenure', 'Frequency', 'Monetary']\n",
    "\n",
    "    return data_rfmts"
   ]
  },
  {
   "cell_type": "code",
   "execution_count": 15,
   "id": "4e252d5d",
   "metadata": {},
   "outputs": [
    {
     "name": "stdout",
     "output_type": "stream",
     "text": [
      "RFM data shape: (884265, 4)\n",
      "Distinct cust: 884265\n"
     ]
    }
   ],
   "source": [
    "eda_rfm_data = generate_rfmts(data = eda_data)\n",
    "\n",
    "print('RFM data shape:', eda_rfm_data.shape)\n",
    "print('Distinct cust:', len(set(eda_data['CustomerID'])))\n",
    "assert eda_rfm_data.shape[0] == len(set(eda_data['CustomerID']))"
   ]
  },
  {
   "cell_type": "code",
   "execution_count": 16,
   "id": "ca2c393b",
   "metadata": {},
   "outputs": [
    {
     "data": {
      "text/html": [
       "<div>\n",
       "<style scoped>\n",
       "    .dataframe tbody tr th:only-of-type {\n",
       "        vertical-align: middle;\n",
       "    }\n",
       "\n",
       "    .dataframe tbody tr th {\n",
       "        vertical-align: top;\n",
       "    }\n",
       "\n",
       "    .dataframe thead th {\n",
       "        text-align: right;\n",
       "    }\n",
       "</style>\n",
       "<table border=\"1\" class=\"dataframe\">\n",
       "  <thead>\n",
       "    <tr style=\"text-align: right;\">\n",
       "      <th></th>\n",
       "      <th>Recency</th>\n",
       "      <th>Tenure</th>\n",
       "      <th>Frequency</th>\n",
       "      <th>Monetary</th>\n",
       "    </tr>\n",
       "    <tr>\n",
       "      <th>CustomerID</th>\n",
       "      <th></th>\n",
       "      <th></th>\n",
       "      <th></th>\n",
       "      <th></th>\n",
       "    </tr>\n",
       "  </thead>\n",
       "  <tbody>\n",
       "    <tr>\n",
       "      <th>C1010011</th>\n",
       "      <td>1922</td>\n",
       "      <td>18</td>\n",
       "      <td>2</td>\n",
       "      <td>5106.0</td>\n",
       "    </tr>\n",
       "    <tr>\n",
       "      <th>C1010012</th>\n",
       "      <td>1965</td>\n",
       "      <td>0</td>\n",
       "      <td>1</td>\n",
       "      <td>1499.0</td>\n",
       "    </tr>\n",
       "    <tr>\n",
       "      <th>C1010014</th>\n",
       "      <td>2002</td>\n",
       "      <td>182</td>\n",
       "      <td>2</td>\n",
       "      <td>1455.0</td>\n",
       "    </tr>\n",
       "    <tr>\n",
       "      <th>C1010018</th>\n",
       "      <td>1933</td>\n",
       "      <td>0</td>\n",
       "      <td>1</td>\n",
       "      <td>30.0</td>\n",
       "    </tr>\n",
       "    <tr>\n",
       "      <th>C1010024</th>\n",
       "      <td>1961</td>\n",
       "      <td>0</td>\n",
       "      <td>1</td>\n",
       "      <td>5000.0</td>\n",
       "    </tr>\n",
       "  </tbody>\n",
       "</table>\n",
       "</div>"
      ],
      "text/plain": [
       "            Recency  Tenure  Frequency  Monetary\n",
       "CustomerID                                      \n",
       "C1010011       1922      18          2    5106.0\n",
       "C1010012       1965       0          1    1499.0\n",
       "C1010014       2002     182          2    1455.0\n",
       "C1010018       1933       0          1      30.0\n",
       "C1010024       1961       0          1    5000.0"
      ]
     },
     "execution_count": 16,
     "metadata": {},
     "output_type": "execute_result"
    }
   ],
   "source": [
    "eda_rfm_data.head()"
   ]
  },
  {
   "cell_type": "markdown",
   "id": "7b4cd31d",
   "metadata": {},
   "source": [
    "## 2.6. Data Description"
   ]
  },
  {
   "cell_type": "code",
   "execution_count": 17,
   "id": "6c766fac",
   "metadata": {},
   "outputs": [
    {
     "data": {
      "text/html": [
       "<div>\n",
       "<style scoped>\n",
       "    .dataframe tbody tr th:only-of-type {\n",
       "        vertical-align: middle;\n",
       "    }\n",
       "\n",
       "    .dataframe tbody tr th {\n",
       "        vertical-align: top;\n",
       "    }\n",
       "\n",
       "    .dataframe thead th {\n",
       "        text-align: right;\n",
       "    }\n",
       "</style>\n",
       "<table border=\"1\" class=\"dataframe\">\n",
       "  <thead>\n",
       "    <tr style=\"text-align: right;\">\n",
       "      <th></th>\n",
       "      <th>Recency</th>\n",
       "      <th>Tenure</th>\n",
       "      <th>Frequency</th>\n",
       "      <th>Monetary</th>\n",
       "    </tr>\n",
       "  </thead>\n",
       "  <tbody>\n",
       "    <tr>\n",
       "      <th>count</th>\n",
       "      <td>884265.000000</td>\n",
       "      <td>884265.000000</td>\n",
       "      <td>884265.000000</td>\n",
       "      <td>8.842650e+05</td>\n",
       "    </tr>\n",
       "    <tr>\n",
       "      <th>mean</th>\n",
       "      <td>1976.747135</td>\n",
       "      <td>15.132699</td>\n",
       "      <td>1.185806</td>\n",
       "      <td>1.866856e+03</td>\n",
       "    </tr>\n",
       "    <tr>\n",
       "      <th>std</th>\n",
       "      <td>80.030366</td>\n",
       "      <td>47.066357</td>\n",
       "      <td>0.450683</td>\n",
       "      <td>7.207210e+03</td>\n",
       "    </tr>\n",
       "    <tr>\n",
       "      <th>min</th>\n",
       "      <td>1848.000000</td>\n",
       "      <td>0.000000</td>\n",
       "      <td>1.000000</td>\n",
       "      <td>0.000000e+00</td>\n",
       "    </tr>\n",
       "    <tr>\n",
       "      <th>25%</th>\n",
       "      <td>1934.000000</td>\n",
       "      <td>0.000000</td>\n",
       "      <td>1.000000</td>\n",
       "      <td>2.000000e+02</td>\n",
       "    </tr>\n",
       "    <tr>\n",
       "      <th>50%</th>\n",
       "      <td>1957.000000</td>\n",
       "      <td>0.000000</td>\n",
       "      <td>1.000000</td>\n",
       "      <td>5.368000e+02</td>\n",
       "    </tr>\n",
       "    <tr>\n",
       "      <th>75%</th>\n",
       "      <td>2001.000000</td>\n",
       "      <td>0.000000</td>\n",
       "      <td>1.000000</td>\n",
       "      <td>1.500000e+03</td>\n",
       "    </tr>\n",
       "    <tr>\n",
       "      <th>max</th>\n",
       "      <td>2184.000000</td>\n",
       "      <td>336.000000</td>\n",
       "      <td>6.000000</td>\n",
       "      <td>1.560035e+06</td>\n",
       "    </tr>\n",
       "  </tbody>\n",
       "</table>\n",
       "</div>"
      ],
      "text/plain": [
       "             Recency         Tenure      Frequency      Monetary\n",
       "count  884265.000000  884265.000000  884265.000000  8.842650e+05\n",
       "mean     1976.747135      15.132699       1.185806  1.866856e+03\n",
       "std        80.030366      47.066357       0.450683  7.207210e+03\n",
       "min      1848.000000       0.000000       1.000000  0.000000e+00\n",
       "25%      1934.000000       0.000000       1.000000  2.000000e+02\n",
       "50%      1957.000000       0.000000       1.000000  5.368000e+02\n",
       "75%      2001.000000       0.000000       1.000000  1.500000e+03\n",
       "max      2184.000000     336.000000       6.000000  1.560035e+06"
      ]
     },
     "execution_count": 17,
     "metadata": {},
     "output_type": "execute_result"
    }
   ],
   "source": [
    "eda_rfm_data.describe()"
   ]
  },
  {
   "cell_type": "markdown",
   "id": "834c4c3b",
   "metadata": {},
   "source": [
    "## 2.7 Data Distribution"
   ]
  },
  {
   "cell_type": "code",
   "execution_count": 18,
   "id": "5bb5279c",
   "metadata": {},
   "outputs": [
    {
     "data": {
      "image/png": "[encoded data removed]",
      "text/plain": [
       "<Figure size 432x288 with 1 Axes>"
      ]
     },
     "metadata": {
      "needs_background": "light"
     },
     "output_type": "display_data"
    },
    {
     "data": {
      "image/png": "[encoded data removed]",
      "text/plain": [
       "<Figure size 432x288 with 1 Axes>"
      ]
     },
     "metadata": {
      "needs_background": "light"
     },
     "output_type": "display_data"
    },
    {
     "data": {
      "image/png": "[encoded data removed]",
      "text/plain": [
       "<Figure size 432x288 with 1 Axes>"
      ]
     },
     "metadata": {
      "needs_background": "light"
     },
     "output_type": "display_data"
    },
    {
     "data": {
      "image/png": "[encoded data removed]",
      "text/plain": [
       "<Figure size 432x288 with 1 Axes>"
      ]
     },
     "metadata": {
      "needs_background": "light"
     },
     "output_type": "display_data"
    }
   ],
   "source": [
    "for col in eda_rfm_data.columns:\n",
    "    x = eda_rfm_data[col]\n",
    "    sns.histplot(x)\n",
    "    plt.title(col)\n",
    "    plt.show();"
   ]
  },
  {
   "cell_type": "markdown",
   "id": "478f5cfd",
   "metadata": {},
   "source": [
    "Perlu dilakukan pembersihan outlier."
   ]
  },
  {
   "cell_type": "code",
   "execution_count": 19,
   "id": "f8d7c9ce",
   "metadata": {},
   "outputs": [],
   "source": [
    "def drop_outlier(data, cols):\n",
    "    data_clean = data.copy()\n",
    "    \n",
    "    for col in cols:\n",
    "        q1, q3 = np.quantile(data_clean[col], q=[0.25, 0.75])\n",
    "        iqr = q3 - q1\n",
    "        ub = q3 + 1.5*iqr\n",
    "        lb = q1 - 1.5*iqr\n",
    "\n",
    "        # Filter data\n",
    "        cond_data_1 = data_clean[col] <= ub\n",
    "        cond_data_2 = data_clean[col] >= lb\n",
    "        data_clean = data_clean[cond_data_1 & cond_data_2]\n",
    "\n",
    "    return data_clean"
   ]
  },
  {
   "cell_type": "code",
   "execution_count": 20,
   "id": "c05b41a7",
   "metadata": {},
   "outputs": [
    {
     "name": "stdout",
     "output_type": "stream",
     "text": [
      "EDA data shape : (703696, 4)\n"
     ]
    },
    {
     "data": {
      "text/html": [
       "<div>\n",
       "<style scoped>\n",
       "    .dataframe tbody tr th:only-of-type {\n",
       "        vertical-align: middle;\n",
       "    }\n",
       "\n",
       "    .dataframe tbody tr th {\n",
       "        vertical-align: top;\n",
       "    }\n",
       "\n",
       "    .dataframe thead th {\n",
       "        text-align: right;\n",
       "    }\n",
       "</style>\n",
       "<table border=\"1\" class=\"dataframe\">\n",
       "  <thead>\n",
       "    <tr style=\"text-align: right;\">\n",
       "      <th></th>\n",
       "      <th>Recency</th>\n",
       "      <th>Tenure</th>\n",
       "      <th>Frequency</th>\n",
       "      <th>Monetary</th>\n",
       "    </tr>\n",
       "  </thead>\n",
       "  <tbody>\n",
       "    <tr>\n",
       "      <th>count</th>\n",
       "      <td>703696.000000</td>\n",
       "      <td>703696.000000</td>\n",
       "      <td>703696.000000</td>\n",
       "      <td>703696.000000</td>\n",
       "    </tr>\n",
       "    <tr>\n",
       "      <th>mean</th>\n",
       "      <td>1955.742745</td>\n",
       "      <td>14.640460</td>\n",
       "      <td>1.176073</td>\n",
       "      <td>757.507639</td>\n",
       "    </tr>\n",
       "    <tr>\n",
       "      <th>std</th>\n",
       "      <td>53.903890</td>\n",
       "      <td>46.319111</td>\n",
       "      <td>0.430424</td>\n",
       "      <td>787.371049</td>\n",
       "    </tr>\n",
       "    <tr>\n",
       "      <th>min</th>\n",
       "      <td>1848.000000</td>\n",
       "      <td>0.000000</td>\n",
       "      <td>1.000000</td>\n",
       "      <td>0.000000</td>\n",
       "    </tr>\n",
       "    <tr>\n",
       "      <th>25%</th>\n",
       "      <td>1933.000000</td>\n",
       "      <td>0.000000</td>\n",
       "      <td>1.000000</td>\n",
       "      <td>180.000000</td>\n",
       "    </tr>\n",
       "    <tr>\n",
       "      <th>50%</th>\n",
       "      <td>1954.000000</td>\n",
       "      <td>0.000000</td>\n",
       "      <td>1.000000</td>\n",
       "      <td>477.520000</td>\n",
       "    </tr>\n",
       "    <tr>\n",
       "      <th>75%</th>\n",
       "      <td>1966.000000</td>\n",
       "      <td>0.000000</td>\n",
       "      <td>1.000000</td>\n",
       "      <td>1074.000000</td>\n",
       "    </tr>\n",
       "    <tr>\n",
       "      <th>max</th>\n",
       "      <td>2093.000000</td>\n",
       "      <td>336.000000</td>\n",
       "      <td>6.000000</td>\n",
       "      <td>3450.000000</td>\n",
       "    </tr>\n",
       "  </tbody>\n",
       "</table>\n",
       "</div>"
      ],
      "text/plain": [
       "             Recency         Tenure      Frequency       Monetary\n",
       "count  703696.000000  703696.000000  703696.000000  703696.000000\n",
       "mean     1955.742745      14.640460       1.176073     757.507639\n",
       "std        53.903890      46.319111       0.430424     787.371049\n",
       "min      1848.000000       0.000000       1.000000       0.000000\n",
       "25%      1933.000000       0.000000       1.000000     180.000000\n",
       "50%      1954.000000       0.000000       1.000000     477.520000\n",
       "75%      1966.000000       0.000000       1.000000    1074.000000\n",
       "max      2093.000000     336.000000       6.000000    3450.000000"
      ]
     },
     "execution_count": 20,
     "metadata": {},
     "output_type": "execute_result"
    }
   ],
   "source": [
    "# Buang outlier\n",
    "eda_rfm_data = drop_outlier(data = eda_rfm_data,\n",
    "                            cols = ['Monetary', 'Recency'])\n",
    "\n",
    "# Validasi\n",
    "print('EDA data shape :', eda_rfm_data.shape)\n",
    "eda_rfm_data.describe()"
   ]
  },
  {
   "cell_type": "code",
   "execution_count": 21,
   "id": "a0b0d3b6",
   "metadata": {},
   "outputs": [
    {
     "data": {
      "image/png": "[encoded data removed]",
      "text/plain": [
       "<Figure size 432x288 with 1 Axes>"
      ]
     },
     "metadata": {
      "needs_background": "light"
     },
     "output_type": "display_data"
    },
    {
     "data": {
      "image/png": "[encoded data removed]",
      "text/plain": [
       "<Figure size 432x288 with 1 Axes>"
      ]
     },
     "metadata": {
      "needs_background": "light"
     },
     "output_type": "display_data"
    },
    {
     "data": {
      "image/png": "[encoded data removed]",
      "text/plain": [
       "<Figure size 432x288 with 1 Axes>"
      ]
     },
     "metadata": {
      "needs_background": "light"
     },
     "output_type": "display_data"
    },
    {
     "data": {
      "image/png": "[encoded data removed]",
      "text/plain": [
       "<Figure size 432x288 with 1 Axes>"
      ]
     },
     "metadata": {
      "needs_background": "light"
     },
     "output_type": "display_data"
    }
   ],
   "source": [
    "for col in eda_rfm_data.columns:\n",
    "    x = eda_rfm_data[col]\n",
    "    sns.histplot(x)\n",
    "    plt.title(col)\n",
    "    plt.show();"
   ]
  },
  {
   "cell_type": "markdown",
   "id": "56ba69d0",
   "metadata": {},
   "source": [
    "# 3. Data Preprocessing"
   ]
  },
  {
   "cell_type": "markdown",
   "id": "ff37ec08",
   "metadata": {},
   "source": [
    "## 3.1. Preprocess Raw Data"
   ]
  },
  {
   "cell_type": "code",
   "execution_count": 30,
   "id": "8cc546fc",
   "metadata": {},
   "outputs": [],
   "source": [
    "def preprocess_raw(data):\n",
    "    # Buat data RFM\n",
    "    data_rfm = generate_rfmts(data = data)\n",
    "\n",
    "    # Validasi\n",
    "    print('Data shape RFM:', data_rfm.shape)\n",
    "    assert data_rfm.shape[0] == len(set(data['CustomerID']))\n",
    "\n",
    "    return data_rfm"
   ]
  },
  {
   "cell_type": "code",
   "execution_count": 32,
   "id": "05748e86",
   "metadata": {},
   "outputs": [
    {
     "name": "stdout",
     "output_type": "stream",
     "text": [
      "Data shape raw: (1048567, 9)\n",
      "Data shape RFM: (884265, 4)\n"
     ]
    },
    {
     "data": {
      "text/html": [
       "<div>\n",
       "<style scoped>\n",
       "    .dataframe tbody tr th:only-of-type {\n",
       "        vertical-align: middle;\n",
       "    }\n",
       "\n",
       "    .dataframe tbody tr th {\n",
       "        vertical-align: top;\n",
       "    }\n",
       "\n",
       "    .dataframe thead th {\n",
       "        text-align: right;\n",
       "    }\n",
       "</style>\n",
       "<table border=\"1\" class=\"dataframe\">\n",
       "  <thead>\n",
       "    <tr style=\"text-align: right;\">\n",
       "      <th></th>\n",
       "      <th>Recency</th>\n",
       "      <th>Tenure</th>\n",
       "      <th>Frequency</th>\n",
       "      <th>Monetary</th>\n",
       "    </tr>\n",
       "    <tr>\n",
       "      <th>CustomerID</th>\n",
       "      <th></th>\n",
       "      <th></th>\n",
       "      <th></th>\n",
       "      <th></th>\n",
       "    </tr>\n",
       "  </thead>\n",
       "  <tbody>\n",
       "    <tr>\n",
       "      <th>C1010011</th>\n",
       "      <td>1922</td>\n",
       "      <td>18</td>\n",
       "      <td>2</td>\n",
       "      <td>5106.0</td>\n",
       "    </tr>\n",
       "    <tr>\n",
       "      <th>C1010012</th>\n",
       "      <td>1965</td>\n",
       "      <td>0</td>\n",
       "      <td>1</td>\n",
       "      <td>1499.0</td>\n",
       "    </tr>\n",
       "    <tr>\n",
       "      <th>C1010014</th>\n",
       "      <td>2002</td>\n",
       "      <td>182</td>\n",
       "      <td>2</td>\n",
       "      <td>1455.0</td>\n",
       "    </tr>\n",
       "    <tr>\n",
       "      <th>C1010018</th>\n",
       "      <td>1933</td>\n",
       "      <td>0</td>\n",
       "      <td>1</td>\n",
       "      <td>30.0</td>\n",
       "    </tr>\n",
       "    <tr>\n",
       "      <th>C1010024</th>\n",
       "      <td>1961</td>\n",
       "      <td>0</td>\n",
       "      <td>1</td>\n",
       "      <td>5000.0</td>\n",
       "    </tr>\n",
       "  </tbody>\n",
       "</table>\n",
       "</div>"
      ],
      "text/plain": [
       "            Recency  Tenure  Frequency  Monetary\n",
       "CustomerID                                      \n",
       "C1010011       1922      18          2    5106.0\n",
       "C1010012       1965       0          1    1499.0\n",
       "C1010014       2002     182          2    1455.0\n",
       "C1010018       1933       0          1      30.0\n",
       "C1010024       1961       0          1    5000.0"
      ]
     },
     "execution_count": 32,
     "metadata": {},
     "output_type": "execute_result"
    }
   ],
   "source": [
    "data_rfm = preprocess_raw(data = eda_data)\n",
    "data_rfm.head()"
   ]
  },
  {
   "cell_type": "markdown",
   "id": "005a9d91",
   "metadata": {},
   "source": [
    "## **3.2. Preprocess RFM data**"
   ]
  },
  {
   "cell_type": "code",
   "execution_count": 35,
   "id": "04c51484",
   "metadata": {},
   "outputs": [],
   "source": [
    "def preprocess_rfm(data_rfm):\n",
    "    # 1. Buang outlier\n",
    "    data_clean = drop_outlier(data = data_rfm,\n",
    "                              cols = ['Monetary', 'Recency'])\n",
    "\n",
    "    # 2. Filter data\n",
    "    data_clean = data_clean[['Recency', 'Frequency', 'Monetary']]\n",
    "    \n",
    "    # 3. Tambahkan ranking frequency untuk memudahkan rank method\n",
    "    data_clean['Freq_Rank'] = data_clean['Frequency'].argsort().argsort() + 1\n",
    "\n",
    "    # 4. Validasi\n",
    "    print('Data shape clean:', data_clean.shape)\n",
    "\n",
    "    return data_clean"
   ]
  },
  {
   "cell_type": "code",
   "execution_count": 37,
   "id": "8c97d11c",
   "metadata": {},
   "outputs": [
    {
     "name": "stdout",
     "output_type": "stream",
     "text": [
      "Data shape clean: (703696, 4)\n"
     ]
    },
    {
     "data": {
      "text/html": [
       "<div>\n",
       "<style scoped>\n",
       "    .dataframe tbody tr th:only-of-type {\n",
       "        vertical-align: middle;\n",
       "    }\n",
       "\n",
       "    .dataframe tbody tr th {\n",
       "        vertical-align: top;\n",
       "    }\n",
       "\n",
       "    .dataframe thead th {\n",
       "        text-align: right;\n",
       "    }\n",
       "</style>\n",
       "<table border=\"1\" class=\"dataframe\">\n",
       "  <thead>\n",
       "    <tr style=\"text-align: right;\">\n",
       "      <th></th>\n",
       "      <th>Recency</th>\n",
       "      <th>Frequency</th>\n",
       "      <th>Monetary</th>\n",
       "      <th>Freq_Rank</th>\n",
       "    </tr>\n",
       "  </thead>\n",
       "  <tbody>\n",
       "    <tr>\n",
       "      <th>count</th>\n",
       "      <td>703696.000000</td>\n",
       "      <td>703696.000000</td>\n",
       "      <td>703696.000000</td>\n",
       "      <td>703696.000000</td>\n",
       "    </tr>\n",
       "    <tr>\n",
       "      <th>mean</th>\n",
       "      <td>1955.742745</td>\n",
       "      <td>1.176073</td>\n",
       "      <td>757.507639</td>\n",
       "      <td>351848.500000</td>\n",
       "    </tr>\n",
       "    <tr>\n",
       "      <th>std</th>\n",
       "      <td>53.903890</td>\n",
       "      <td>0.430424</td>\n",
       "      <td>787.371049</td>\n",
       "      <td>203139.681852</td>\n",
       "    </tr>\n",
       "    <tr>\n",
       "      <th>min</th>\n",
       "      <td>1848.000000</td>\n",
       "      <td>1.000000</td>\n",
       "      <td>0.000000</td>\n",
       "      <td>1.000000</td>\n",
       "    </tr>\n",
       "    <tr>\n",
       "      <th>25%</th>\n",
       "      <td>1933.000000</td>\n",
       "      <td>1.000000</td>\n",
       "      <td>180.000000</td>\n",
       "      <td>175924.750000</td>\n",
       "    </tr>\n",
       "    <tr>\n",
       "      <th>50%</th>\n",
       "      <td>1954.000000</td>\n",
       "      <td>1.000000</td>\n",
       "      <td>477.520000</td>\n",
       "      <td>351848.500000</td>\n",
       "    </tr>\n",
       "    <tr>\n",
       "      <th>75%</th>\n",
       "      <td>1966.000000</td>\n",
       "      <td>1.000000</td>\n",
       "      <td>1074.000000</td>\n",
       "      <td>527772.250000</td>\n",
       "    </tr>\n",
       "    <tr>\n",
       "      <th>max</th>\n",
       "      <td>2093.000000</td>\n",
       "      <td>6.000000</td>\n",
       "      <td>3450.000000</td>\n",
       "      <td>703696.000000</td>\n",
       "    </tr>\n",
       "  </tbody>\n",
       "</table>\n",
       "</div>"
      ],
      "text/plain": [
       "             Recency      Frequency       Monetary      Freq_Rank\n",
       "count  703696.000000  703696.000000  703696.000000  703696.000000\n",
       "mean     1955.742745       1.176073     757.507639  351848.500000\n",
       "std        53.903890       0.430424     787.371049  203139.681852\n",
       "min      1848.000000       1.000000       0.000000       1.000000\n",
       "25%      1933.000000       1.000000     180.000000  175924.750000\n",
       "50%      1954.000000       1.000000     477.520000  351848.500000\n",
       "75%      1966.000000       1.000000    1074.000000  527772.250000\n",
       "max      2093.000000       6.000000    3450.000000  703696.000000"
      ]
     },
     "execution_count": 37,
     "metadata": {},
     "output_type": "execute_result"
    }
   ],
   "source": [
    "data_rfm_clean = preprocess_rfm(data_rfm = data_rfm)\n",
    "data_rfm_clean.describe()"
   ]
  },
  {
   "cell_type": "markdown",
   "id": "965d159c",
   "metadata": {},
   "source": [
    "## **3.3. Normalize Data**"
   ]
  },
  {
   "cell_type": "code",
   "execution_count": 38,
   "id": "b80be595",
   "metadata": {},
   "outputs": [],
   "source": [
    "# Fit & transform scaler\n",
    "from sklearn.preprocessing import MinMaxScaler\n",
    "\n",
    "def fit_scaler(data):\n",
    "    # Create & fit scaler\n",
    "    scaler = MinMaxScaler()\n",
    "    scaler.fit(data)\n",
    "\n",
    "    return scaler\n",
    "\n",
    "def transform_scaler(data, scaler):\n",
    "    # Transform scaler\n",
    "    data_clean = pd.DataFrame(scaler.transform(data))\n",
    "    data_clean.index = data.index\n",
    "    data_clean.columns = data.columns\n",
    "\n",
    "    # Validate\n",
    "    print(\"Data shape :\", data.shape)\n",
    "\n",
    "    return data_clean\n"
   ]
  },
  {
   "cell_type": "code",
   "execution_count": 39,
   "id": "4ee7cc1b",
   "metadata": {},
   "outputs": [
    {
     "name": "stdout",
     "output_type": "stream",
     "text": [
      "Data shape : (703696, 4)\n"
     ]
    },
    {
     "data": {
      "text/html": [
       "<div>\n",
       "<style scoped>\n",
       "    .dataframe tbody tr th:only-of-type {\n",
       "        vertical-align: middle;\n",
       "    }\n",
       "\n",
       "    .dataframe tbody tr th {\n",
       "        vertical-align: top;\n",
       "    }\n",
       "\n",
       "    .dataframe thead th {\n",
       "        text-align: right;\n",
       "    }\n",
       "</style>\n",
       "<table border=\"1\" class=\"dataframe\">\n",
       "  <thead>\n",
       "    <tr style=\"text-align: right;\">\n",
       "      <th></th>\n",
       "      <th>Recency</th>\n",
       "      <th>Frequency</th>\n",
       "      <th>Monetary</th>\n",
       "      <th>Freq_Rank</th>\n",
       "    </tr>\n",
       "    <tr>\n",
       "      <th>CustomerID</th>\n",
       "      <th></th>\n",
       "      <th></th>\n",
       "      <th></th>\n",
       "      <th></th>\n",
       "    </tr>\n",
       "  </thead>\n",
       "  <tbody>\n",
       "    <tr>\n",
       "      <th>C1010012</th>\n",
       "      <td>0.477551</td>\n",
       "      <td>0.0</td>\n",
       "      <td>0.434493</td>\n",
       "      <td>0.000000</td>\n",
       "    </tr>\n",
       "    <tr>\n",
       "      <th>C1010014</th>\n",
       "      <td>0.628571</td>\n",
       "      <td>0.2</td>\n",
       "      <td>0.421739</td>\n",
       "      <td>0.842810</td>\n",
       "    </tr>\n",
       "    <tr>\n",
       "      <th>C1010018</th>\n",
       "      <td>0.346939</td>\n",
       "      <td>0.0</td>\n",
       "      <td>0.008696</td>\n",
       "      <td>0.724200</td>\n",
       "    </tr>\n",
       "    <tr>\n",
       "      <th>C1010028</th>\n",
       "      <td>0.416327</td>\n",
       "      <td>0.0</td>\n",
       "      <td>0.161449</td>\n",
       "      <td>0.724204</td>\n",
       "    </tr>\n",
       "    <tr>\n",
       "      <th>C1010031</th>\n",
       "      <td>1.000000</td>\n",
       "      <td>0.2</td>\n",
       "      <td>0.540290</td>\n",
       "      <td>0.842835</td>\n",
       "    </tr>\n",
       "  </tbody>\n",
       "</table>\n",
       "</div>"
      ],
      "text/plain": [
       "             Recency  Frequency  Monetary  Freq_Rank\n",
       "CustomerID                                          \n",
       "C1010012    0.477551        0.0  0.434493   0.000000\n",
       "C1010014    0.628571        0.2  0.421739   0.842810\n",
       "C1010018    0.346939        0.0  0.008696   0.724200\n",
       "C1010028    0.416327        0.0  0.161449   0.724204\n",
       "C1010031    1.000000        0.2  0.540290   0.842835"
      ]
     },
     "execution_count": 39,
     "metadata": {},
     "output_type": "execute_result"
    }
   ],
   "source": [
    "scaler = fit_scaler(data = data_rfm_clean)\n",
    "data_rfm_scaled = transform_scaler(data = data_rfm_clean,\n",
    "                                   scaler = scaler)\n",
    "\n",
    "data_rfm_scaled.head()"
   ]
  },
  {
   "cell_type": "code",
   "execution_count": 40,
   "id": "64a42993",
   "metadata": {},
   "outputs": [
    {
     "data": {
      "text/html": [
       "<div>\n",
       "<style scoped>\n",
       "    .dataframe tbody tr th:only-of-type {\n",
       "        vertical-align: middle;\n",
       "    }\n",
       "\n",
       "    .dataframe tbody tr th {\n",
       "        vertical-align: top;\n",
       "    }\n",
       "\n",
       "    .dataframe thead th {\n",
       "        text-align: right;\n",
       "    }\n",
       "</style>\n",
       "<table border=\"1\" class=\"dataframe\">\n",
       "  <thead>\n",
       "    <tr style=\"text-align: right;\">\n",
       "      <th></th>\n",
       "      <th>Recency</th>\n",
       "      <th>Frequency</th>\n",
       "      <th>Monetary</th>\n",
       "      <th>Freq_Rank</th>\n",
       "    </tr>\n",
       "  </thead>\n",
       "  <tbody>\n",
       "    <tr>\n",
       "      <th>count</th>\n",
       "      <td>703696.000000</td>\n",
       "      <td>703696.000000</td>\n",
       "      <td>703696.000000</td>\n",
       "      <td>703696.000000</td>\n",
       "    </tr>\n",
       "    <tr>\n",
       "      <th>mean</th>\n",
       "      <td>0.439766</td>\n",
       "      <td>0.035215</td>\n",
       "      <td>0.219567</td>\n",
       "      <td>0.500000</td>\n",
       "    </tr>\n",
       "    <tr>\n",
       "      <th>std</th>\n",
       "      <td>0.220016</td>\n",
       "      <td>0.086085</td>\n",
       "      <td>0.228223</td>\n",
       "      <td>0.288676</td>\n",
       "    </tr>\n",
       "    <tr>\n",
       "      <th>min</th>\n",
       "      <td>0.000000</td>\n",
       "      <td>0.000000</td>\n",
       "      <td>0.000000</td>\n",
       "      <td>0.000000</td>\n",
       "    </tr>\n",
       "    <tr>\n",
       "      <th>25%</th>\n",
       "      <td>0.346939</td>\n",
       "      <td>0.000000</td>\n",
       "      <td>0.052174</td>\n",
       "      <td>0.250000</td>\n",
       "    </tr>\n",
       "    <tr>\n",
       "      <th>50%</th>\n",
       "      <td>0.432653</td>\n",
       "      <td>0.000000</td>\n",
       "      <td>0.138412</td>\n",
       "      <td>0.500000</td>\n",
       "    </tr>\n",
       "    <tr>\n",
       "      <th>75%</th>\n",
       "      <td>0.481633</td>\n",
       "      <td>0.000000</td>\n",
       "      <td>0.311304</td>\n",
       "      <td>0.750000</td>\n",
       "    </tr>\n",
       "    <tr>\n",
       "      <th>max</th>\n",
       "      <td>1.000000</td>\n",
       "      <td>1.000000</td>\n",
       "      <td>1.000000</td>\n",
       "      <td>1.000000</td>\n",
       "    </tr>\n",
       "  </tbody>\n",
       "</table>\n",
       "</div>"
      ],
      "text/plain": [
       "             Recency      Frequency       Monetary      Freq_Rank\n",
       "count  703696.000000  703696.000000  703696.000000  703696.000000\n",
       "mean        0.439766       0.035215       0.219567       0.500000\n",
       "std         0.220016       0.086085       0.228223       0.288676\n",
       "min         0.000000       0.000000       0.000000       0.000000\n",
       "25%         0.346939       0.000000       0.052174       0.250000\n",
       "50%         0.432653       0.000000       0.138412       0.500000\n",
       "75%         0.481633       0.000000       0.311304       0.750000\n",
       "max         1.000000       1.000000       1.000000       1.000000"
      ]
     },
     "execution_count": 40,
     "metadata": {},
     "output_type": "execute_result"
    }
   ],
   "source": [
    "data_rfm_scaled.describe()"
   ]
  },
  {
   "cell_type": "markdown",
   "id": "ef5df11b",
   "metadata": {},
   "source": [
    "## **3.4. Create preprocessing pipeline**"
   ]
  },
  {
   "cell_type": "code",
   "execution_count": 41,
   "id": "3853311e",
   "metadata": {},
   "outputs": [],
   "source": [
    "def preprocess_data(data, scaler=None):\n",
    "    # 1. Get the RFM data\n",
    "    data_rfm = preprocess_raw(data = data)\n",
    "\n",
    "    # 2. Get the clean RFM data\n",
    "    data_rfm_clean = preprocess_rfm(data_rfm = data_rfm)\n",
    "\n",
    "    # 3. Normalize data\n",
    "    if scaler is None:\n",
    "        # Create a scaler\n",
    "        scaler = fit_scaler(data = data_rfm_clean)\n",
    "\n",
    "    data_clean = transform_scaler(data = data_rfm_clean,\n",
    "                                  scaler = scaler)\n",
    "\n",
    "    # 4. Validate\n",
    "    print('Data shape clean :', data_clean.shape)\n",
    "\n",
    "    return data_clean, scaler\n"
   ]
  },
  {
   "cell_type": "code",
   "execution_count": 43,
   "id": "9efb18e0",
   "metadata": {},
   "outputs": [
    {
     "name": "stdout",
     "output_type": "stream",
     "text": [
      "Data shape raw: (1048567, 9)\n",
      "Data shape RFM: (884265, 4)\n",
      "Data shape clean: (703696, 4)\n",
      "Data shape : (703696, 4)\n",
      "Data shape clean : (703696, 4)\n"
     ]
    }
   ],
   "source": [
    "data_clean, scaler = preprocess_data(data = data)"
   ]
  },
  {
   "cell_type": "code",
   "execution_count": 44,
   "id": "38a91684",
   "metadata": {},
   "outputs": [
    {
     "data": {
      "text/html": [
       "<div>\n",
       "<style scoped>\n",
       "    .dataframe tbody tr th:only-of-type {\n",
       "        vertical-align: middle;\n",
       "    }\n",
       "\n",
       "    .dataframe tbody tr th {\n",
       "        vertical-align: top;\n",
       "    }\n",
       "\n",
       "    .dataframe thead th {\n",
       "        text-align: right;\n",
       "    }\n",
       "</style>\n",
       "<table border=\"1\" class=\"dataframe\">\n",
       "  <thead>\n",
       "    <tr style=\"text-align: right;\">\n",
       "      <th></th>\n",
       "      <th>Recency</th>\n",
       "      <th>Frequency</th>\n",
       "      <th>Monetary</th>\n",
       "      <th>Freq_Rank</th>\n",
       "    </tr>\n",
       "    <tr>\n",
       "      <th>CustomerID</th>\n",
       "      <th></th>\n",
       "      <th></th>\n",
       "      <th></th>\n",
       "      <th></th>\n",
       "    </tr>\n",
       "  </thead>\n",
       "  <tbody>\n",
       "    <tr>\n",
       "      <th>C1010012</th>\n",
       "      <td>0.477551</td>\n",
       "      <td>0.0</td>\n",
       "      <td>0.434493</td>\n",
       "      <td>0.000000</td>\n",
       "    </tr>\n",
       "    <tr>\n",
       "      <th>C1010014</th>\n",
       "      <td>0.628571</td>\n",
       "      <td>0.2</td>\n",
       "      <td>0.421739</td>\n",
       "      <td>0.842810</td>\n",
       "    </tr>\n",
       "    <tr>\n",
       "      <th>C1010018</th>\n",
       "      <td>0.346939</td>\n",
       "      <td>0.0</td>\n",
       "      <td>0.008696</td>\n",
       "      <td>0.724200</td>\n",
       "    </tr>\n",
       "    <tr>\n",
       "      <th>C1010028</th>\n",
       "      <td>0.416327</td>\n",
       "      <td>0.0</td>\n",
       "      <td>0.161449</td>\n",
       "      <td>0.724204</td>\n",
       "    </tr>\n",
       "    <tr>\n",
       "      <th>C1010031</th>\n",
       "      <td>1.000000</td>\n",
       "      <td>0.2</td>\n",
       "      <td>0.540290</td>\n",
       "      <td>0.842835</td>\n",
       "    </tr>\n",
       "  </tbody>\n",
       "</table>\n",
       "</div>"
      ],
      "text/plain": [
       "             Recency  Frequency  Monetary  Freq_Rank\n",
       "CustomerID                                          \n",
       "C1010012    0.477551        0.0  0.434493   0.000000\n",
       "C1010014    0.628571        0.2  0.421739   0.842810\n",
       "C1010018    0.346939        0.0  0.008696   0.724200\n",
       "C1010028    0.416327        0.0  0.161449   0.724204\n",
       "C1010031    1.000000        0.2  0.540290   0.842835"
      ]
     },
     "execution_count": 44,
     "metadata": {},
     "output_type": "execute_result"
    }
   ],
   "source": [
    "data_clean.head()"
   ]
  },
  {
   "cell_type": "code",
   "execution_count": 45,
   "id": "272b3c34",
   "metadata": {
    "scrolled": true
   },
   "outputs": [
    {
     "data": {
      "text/html": [
       "<div>\n",
       "<style scoped>\n",
       "    .dataframe tbody tr th:only-of-type {\n",
       "        vertical-align: middle;\n",
       "    }\n",
       "\n",
       "    .dataframe tbody tr th {\n",
       "        vertical-align: top;\n",
       "    }\n",
       "\n",
       "    .dataframe thead th {\n",
       "        text-align: right;\n",
       "    }\n",
       "</style>\n",
       "<table border=\"1\" class=\"dataframe\">\n",
       "  <thead>\n",
       "    <tr style=\"text-align: right;\">\n",
       "      <th></th>\n",
       "      <th>Recency</th>\n",
       "      <th>Frequency</th>\n",
       "      <th>Monetary</th>\n",
       "      <th>Freq_Rank</th>\n",
       "    </tr>\n",
       "  </thead>\n",
       "  <tbody>\n",
       "    <tr>\n",
       "      <th>count</th>\n",
       "      <td>703696.000000</td>\n",
       "      <td>703696.000000</td>\n",
       "      <td>703696.000000</td>\n",
       "      <td>703696.000000</td>\n",
       "    </tr>\n",
       "    <tr>\n",
       "      <th>mean</th>\n",
       "      <td>0.439766</td>\n",
       "      <td>0.035215</td>\n",
       "      <td>0.219567</td>\n",
       "      <td>0.500000</td>\n",
       "    </tr>\n",
       "    <tr>\n",
       "      <th>std</th>\n",
       "      <td>0.220016</td>\n",
       "      <td>0.086085</td>\n",
       "      <td>0.228223</td>\n",
       "      <td>0.288676</td>\n",
       "    </tr>\n",
       "    <tr>\n",
       "      <th>min</th>\n",
       "      <td>0.000000</td>\n",
       "      <td>0.000000</td>\n",
       "      <td>0.000000</td>\n",
       "      <td>0.000000</td>\n",
       "    </tr>\n",
       "    <tr>\n",
       "      <th>25%</th>\n",
       "      <td>0.346939</td>\n",
       "      <td>0.000000</td>\n",
       "      <td>0.052174</td>\n",
       "      <td>0.250000</td>\n",
       "    </tr>\n",
       "    <tr>\n",
       "      <th>50%</th>\n",
       "      <td>0.432653</td>\n",
       "      <td>0.000000</td>\n",
       "      <td>0.138412</td>\n",
       "      <td>0.500000</td>\n",
       "    </tr>\n",
       "    <tr>\n",
       "      <th>75%</th>\n",
       "      <td>0.481633</td>\n",
       "      <td>0.000000</td>\n",
       "      <td>0.311304</td>\n",
       "      <td>0.750000</td>\n",
       "    </tr>\n",
       "    <tr>\n",
       "      <th>max</th>\n",
       "      <td>1.000000</td>\n",
       "      <td>1.000000</td>\n",
       "      <td>1.000000</td>\n",
       "      <td>1.000000</td>\n",
       "    </tr>\n",
       "  </tbody>\n",
       "</table>\n",
       "</div>"
      ],
      "text/plain": [
       "             Recency      Frequency       Monetary      Freq_Rank\n",
       "count  703696.000000  703696.000000  703696.000000  703696.000000\n",
       "mean        0.439766       0.035215       0.219567       0.500000\n",
       "std         0.220016       0.086085       0.228223       0.288676\n",
       "min         0.000000       0.000000       0.000000       0.000000\n",
       "25%         0.346939       0.000000       0.052174       0.250000\n",
       "50%         0.432653       0.000000       0.138412       0.500000\n",
       "75%         0.481633       0.000000       0.311304       0.750000\n",
       "max         1.000000       1.000000       1.000000       1.000000"
      ]
     },
     "execution_count": 45,
     "metadata": {},
     "output_type": "execute_result"
    }
   ],
   "source": [
    "data_clean.describe()"
   ]
  },
  {
   "cell_type": "markdown",
   "id": "f1866fd5",
   "metadata": {},
   "source": [
    "# **4. Clustering**"
   ]
  },
  {
   "cell_type": "markdown",
   "id": "8fff81a5",
   "metadata": {},
   "source": [
    "## 4.1. Ranking Method"
   ]
  },
  {
   "cell_type": "code",
   "execution_count": 46,
   "id": "b255bbac",
   "metadata": {
    "scrolled": true
   },
   "outputs": [],
   "source": [
    "data_bin = data_clean.copy()"
   ]
  },
  {
   "cell_type": "code",
   "execution_count": 47,
   "id": "1e648e09",
   "metadata": {},
   "outputs": [],
   "source": [
    "def binning_rfm(df):\n",
    "    # Calculate quantiles for each variable\n",
    "    quantiles = df.quantile(q=[0.2, 0.4, 0.6, 0.8])\n",
    "\n",
    "    # Create bins for each variable\n",
    "    r_bins = [-np.inf] + list(quantiles['Recency']) + [np.inf]\n",
    "    f_bins = [-np.inf] + list(quantiles['Freq_Rank']) + [np.inf]\n",
    "    m_bins = [-np.inf] + list(quantiles['Monetary']) + [np.inf]\n",
    "\n",
    "    # Create labels for the bins\n",
    "    labels = [1, 2, 3, 4, 5]\n",
    "\n",
    "    # label for recency (lower recency, higher ranking)\n",
    "    labels_r = [5, 4, 3, 2, 1]\n",
    "    \n",
    "    # Bin each variable into five groups\n",
    "    df['R_Group'] = pd.cut(df['Recency'], bins=r_bins, labels=labels_r).astype(int)\n",
    "    df['F_Group'] = pd.cut(df['Freq_Rank'], bins=f_bins, labels=labels).astype(int)\n",
    "    df['M_Group'] = pd.cut(df['Monetary'], bins=m_bins, labels=labels).astype(int)\n",
    "\n",
    "    # RFM score with average\n",
    "    df['RFM_Score'] = np.round((df['R_Group']+df['F_Group']+df['M_Group'])/3,2)\n",
    "\n",
    "    return df"
   ]
  },
  {
   "cell_type": "code",
   "execution_count": 49,
   "id": "9cb13c81",
   "metadata": {
    "scrolled": true
   },
   "outputs": [
    {
     "data": {
      "text/html": [
       "<div>\n",
       "<style scoped>\n",
       "    .dataframe tbody tr th:only-of-type {\n",
       "        vertical-align: middle;\n",
       "    }\n",
       "\n",
       "    .dataframe tbody tr th {\n",
       "        vertical-align: top;\n",
       "    }\n",
       "\n",
       "    .dataframe thead th {\n",
       "        text-align: right;\n",
       "    }\n",
       "</style>\n",
       "<table border=\"1\" class=\"dataframe\">\n",
       "  <thead>\n",
       "    <tr style=\"text-align: right;\">\n",
       "      <th></th>\n",
       "      <th>Recency</th>\n",
       "      <th>Frequency</th>\n",
       "      <th>Monetary</th>\n",
       "      <th>Freq_Rank</th>\n",
       "      <th>R_Group</th>\n",
       "      <th>F_Group</th>\n",
       "      <th>M_Group</th>\n",
       "      <th>RFM_Score</th>\n",
       "    </tr>\n",
       "    <tr>\n",
       "      <th>CustomerID</th>\n",
       "      <th></th>\n",
       "      <th></th>\n",
       "      <th></th>\n",
       "      <th></th>\n",
       "      <th></th>\n",
       "      <th></th>\n",
       "      <th></th>\n",
       "      <th></th>\n",
       "    </tr>\n",
       "  </thead>\n",
       "  <tbody>\n",
       "    <tr>\n",
       "      <th>C1010012</th>\n",
       "      <td>0.477551</td>\n",
       "      <td>0.0</td>\n",
       "      <td>0.434493</td>\n",
       "      <td>0.000000</td>\n",
       "      <td>2</td>\n",
       "      <td>1</td>\n",
       "      <td>5</td>\n",
       "      <td>2.67</td>\n",
       "    </tr>\n",
       "    <tr>\n",
       "      <th>C1010014</th>\n",
       "      <td>0.628571</td>\n",
       "      <td>0.2</td>\n",
       "      <td>0.421739</td>\n",
       "      <td>0.842810</td>\n",
       "      <td>1</td>\n",
       "      <td>5</td>\n",
       "      <td>5</td>\n",
       "      <td>3.67</td>\n",
       "    </tr>\n",
       "    <tr>\n",
       "      <th>C1010018</th>\n",
       "      <td>0.346939</td>\n",
       "      <td>0.0</td>\n",
       "      <td>0.008696</td>\n",
       "      <td>0.724200</td>\n",
       "      <td>4</td>\n",
       "      <td>4</td>\n",
       "      <td>1</td>\n",
       "      <td>3.00</td>\n",
       "    </tr>\n",
       "    <tr>\n",
       "      <th>C1010028</th>\n",
       "      <td>0.416327</td>\n",
       "      <td>0.0</td>\n",
       "      <td>0.161449</td>\n",
       "      <td>0.724204</td>\n",
       "      <td>3</td>\n",
       "      <td>4</td>\n",
       "      <td>3</td>\n",
       "      <td>3.33</td>\n",
       "    </tr>\n",
       "    <tr>\n",
       "      <th>C1010031</th>\n",
       "      <td>1.000000</td>\n",
       "      <td>0.2</td>\n",
       "      <td>0.540290</td>\n",
       "      <td>0.842835</td>\n",
       "      <td>1</td>\n",
       "      <td>5</td>\n",
       "      <td>5</td>\n",
       "      <td>3.67</td>\n",
       "    </tr>\n",
       "  </tbody>\n",
       "</table>\n",
       "</div>"
      ],
      "text/plain": [
       "             Recency  Frequency  Monetary  Freq_Rank  R_Group  F_Group  \\\n",
       "CustomerID                                                               \n",
       "C1010012    0.477551        0.0  0.434493   0.000000        2        1   \n",
       "C1010014    0.628571        0.2  0.421739   0.842810        1        5   \n",
       "C1010018    0.346939        0.0  0.008696   0.724200        4        4   \n",
       "C1010028    0.416327        0.0  0.161449   0.724204        3        4   \n",
       "C1010031    1.000000        0.2  0.540290   0.842835        1        5   \n",
       "\n",
       "            M_Group  RFM_Score  \n",
       "CustomerID                      \n",
       "C1010012          5       2.67  \n",
       "C1010014          5       3.67  \n",
       "C1010018          1       3.00  \n",
       "C1010028          3       3.33  \n",
       "C1010031          5       3.67  "
      ]
     },
     "execution_count": 49,
     "metadata": {},
     "output_type": "execute_result"
    }
   ],
   "source": [
    "# bin the data\n",
    "data_bin = binning_rfm(data_bin)\n",
    "data_bin.head()"
   ]
  },
  {
   "cell_type": "code",
   "execution_count": 50,
   "id": "21e9ff77",
   "metadata": {},
   "outputs": [
    {
     "data": {
      "text/plain": [
       "Recency      float64\n",
       "Frequency    float64\n",
       "Monetary     float64\n",
       "Freq_Rank    float64\n",
       "R_Group        int32\n",
       "F_Group        int32\n",
       "M_Group        int32\n",
       "RFM_Score    float64\n",
       "dtype: object"
      ]
     },
     "execution_count": 50,
     "metadata": {},
     "output_type": "execute_result"
    }
   ],
   "source": [
    "data_bin.dtypes"
   ]
  },
  {
   "cell_type": "code",
   "execution_count": 51,
   "id": "5022d1cd",
   "metadata": {
    "scrolled": true
   },
   "outputs": [
    {
     "data": {
      "text/html": [
       "<div>\n",
       "<style scoped>\n",
       "    .dataframe tbody tr th:only-of-type {\n",
       "        vertical-align: middle;\n",
       "    }\n",
       "\n",
       "    .dataframe tbody tr th {\n",
       "        vertical-align: top;\n",
       "    }\n",
       "\n",
       "    .dataframe thead th {\n",
       "        text-align: right;\n",
       "    }\n",
       "</style>\n",
       "<table border=\"1\" class=\"dataframe\">\n",
       "  <thead>\n",
       "    <tr style=\"text-align: right;\">\n",
       "      <th></th>\n",
       "      <th>Recency</th>\n",
       "      <th>Frequency</th>\n",
       "      <th>Monetary</th>\n",
       "      <th>Freq_Rank</th>\n",
       "      <th>R_Group</th>\n",
       "      <th>F_Group</th>\n",
       "      <th>M_Group</th>\n",
       "      <th>RFM_Score</th>\n",
       "    </tr>\n",
       "  </thead>\n",
       "  <tbody>\n",
       "    <tr>\n",
       "      <th>count</th>\n",
       "      <td>703696.000000</td>\n",
       "      <td>703696.000000</td>\n",
       "      <td>703696.000000</td>\n",
       "      <td>703696.000000</td>\n",
       "      <td>703696.00000</td>\n",
       "      <td>703696.000000</td>\n",
       "      <td>703696.000000</td>\n",
       "      <td>703696.000000</td>\n",
       "    </tr>\n",
       "    <tr>\n",
       "      <th>mean</th>\n",
       "      <td>0.439766</td>\n",
       "      <td>0.035215</td>\n",
       "      <td>0.219567</td>\n",
       "      <td>0.500000</td>\n",
       "      <td>3.04329</td>\n",
       "      <td>2.999997</td>\n",
       "      <td>2.999274</td>\n",
       "      <td>3.014194</td>\n",
       "    </tr>\n",
       "    <tr>\n",
       "      <th>std</th>\n",
       "      <td>0.220016</td>\n",
       "      <td>0.086085</td>\n",
       "      <td>0.228223</td>\n",
       "      <td>0.288676</td>\n",
       "      <td>1.39615</td>\n",
       "      <td>1.414216</td>\n",
       "      <td>1.414315</td>\n",
       "      <td>0.893338</td>\n",
       "    </tr>\n",
       "    <tr>\n",
       "      <th>min</th>\n",
       "      <td>0.000000</td>\n",
       "      <td>0.000000</td>\n",
       "      <td>0.000000</td>\n",
       "      <td>0.000000</td>\n",
       "      <td>1.00000</td>\n",
       "      <td>1.000000</td>\n",
       "      <td>1.000000</td>\n",
       "      <td>1.000000</td>\n",
       "    </tr>\n",
       "    <tr>\n",
       "      <th>25%</th>\n",
       "      <td>0.346939</td>\n",
       "      <td>0.000000</td>\n",
       "      <td>0.052174</td>\n",
       "      <td>0.250000</td>\n",
       "      <td>2.00000</td>\n",
       "      <td>2.000000</td>\n",
       "      <td>2.000000</td>\n",
       "      <td>2.330000</td>\n",
       "    </tr>\n",
       "    <tr>\n",
       "      <th>50%</th>\n",
       "      <td>0.432653</td>\n",
       "      <td>0.000000</td>\n",
       "      <td>0.138412</td>\n",
       "      <td>0.500000</td>\n",
       "      <td>3.00000</td>\n",
       "      <td>3.000000</td>\n",
       "      <td>3.000000</td>\n",
       "      <td>3.000000</td>\n",
       "    </tr>\n",
       "    <tr>\n",
       "      <th>75%</th>\n",
       "      <td>0.481633</td>\n",
       "      <td>0.000000</td>\n",
       "      <td>0.311304</td>\n",
       "      <td>0.750000</td>\n",
       "      <td>4.00000</td>\n",
       "      <td>4.000000</td>\n",
       "      <td>4.000000</td>\n",
       "      <td>3.670000</td>\n",
       "    </tr>\n",
       "    <tr>\n",
       "      <th>max</th>\n",
       "      <td>1.000000</td>\n",
       "      <td>1.000000</td>\n",
       "      <td>1.000000</td>\n",
       "      <td>1.000000</td>\n",
       "      <td>5.00000</td>\n",
       "      <td>5.000000</td>\n",
       "      <td>5.000000</td>\n",
       "      <td>5.000000</td>\n",
       "    </tr>\n",
       "  </tbody>\n",
       "</table>\n",
       "</div>"
      ],
      "text/plain": [
       "             Recency      Frequency       Monetary      Freq_Rank  \\\n",
       "count  703696.000000  703696.000000  703696.000000  703696.000000   \n",
       "mean        0.439766       0.035215       0.219567       0.500000   \n",
       "std         0.220016       0.086085       0.228223       0.288676   \n",
       "min         0.000000       0.000000       0.000000       0.000000   \n",
       "25%         0.346939       0.000000       0.052174       0.250000   \n",
       "50%         0.432653       0.000000       0.138412       0.500000   \n",
       "75%         0.481633       0.000000       0.311304       0.750000   \n",
       "max         1.000000       1.000000       1.000000       1.000000   \n",
       "\n",
       "            R_Group        F_Group        M_Group      RFM_Score  \n",
       "count  703696.00000  703696.000000  703696.000000  703696.000000  \n",
       "mean        3.04329       2.999997       2.999274       3.014194  \n",
       "std         1.39615       1.414216       1.414315       0.893338  \n",
       "min         1.00000       1.000000       1.000000       1.000000  \n",
       "25%         2.00000       2.000000       2.000000       2.330000  \n",
       "50%         3.00000       3.000000       3.000000       3.000000  \n",
       "75%         4.00000       4.000000       4.000000       3.670000  \n",
       "max         5.00000       5.000000       5.000000       5.000000  "
      ]
     },
     "execution_count": 51,
     "metadata": {},
     "output_type": "execute_result"
    }
   ],
   "source": [
    "data_bin.describe()"
   ]
  },
  {
   "cell_type": "code",
   "execution_count": 52,
   "id": "89b0bd15",
   "metadata": {},
   "outputs": [],
   "source": [
    "def assign_segment(rfm_df):\n",
    "    # Beri nama segmen (1 terbaik)\n",
    "    labels = ['5. At Risk Customers', '4. Below Average Customers',\n",
    "              '3. Average Customers', '2. Good Customers',\n",
    "              '1. Best Customers']\n",
    "\n",
    "    rfm_df['Segment'] = pd.cut(rfm_df['RFM_Score'],\n",
    "                               bins = [0, 1, 2, 3, 4, 5],\n",
    "                               labels = labels)\n",
    "    return rfm_df"
   ]
  },
  {
   "cell_type": "code",
   "execution_count": 53,
   "id": "e0f60398",
   "metadata": {},
   "outputs": [],
   "source": [
    "data_bin = assign_segment(data_bin)"
   ]
  },
  {
   "cell_type": "code",
   "execution_count": 54,
   "id": "c16b4382",
   "metadata": {},
   "outputs": [
    {
     "data": {
      "text/html": [
       "<div>\n",
       "<style scoped>\n",
       "    .dataframe tbody tr th:only-of-type {\n",
       "        vertical-align: middle;\n",
       "    }\n",
       "\n",
       "    .dataframe tbody tr th {\n",
       "        vertical-align: top;\n",
       "    }\n",
       "\n",
       "    .dataframe thead th {\n",
       "        text-align: right;\n",
       "    }\n",
       "</style>\n",
       "<table border=\"1\" class=\"dataframe\">\n",
       "  <thead>\n",
       "    <tr style=\"text-align: right;\">\n",
       "      <th></th>\n",
       "      <th>Recency</th>\n",
       "      <th>Frequency</th>\n",
       "      <th>Monetary</th>\n",
       "      <th>Freq_Rank</th>\n",
       "      <th>R_Group</th>\n",
       "      <th>F_Group</th>\n",
       "      <th>M_Group</th>\n",
       "      <th>RFM_Score</th>\n",
       "      <th>Segment</th>\n",
       "    </tr>\n",
       "    <tr>\n",
       "      <th>CustomerID</th>\n",
       "      <th></th>\n",
       "      <th></th>\n",
       "      <th></th>\n",
       "      <th></th>\n",
       "      <th></th>\n",
       "      <th></th>\n",
       "      <th></th>\n",
       "      <th></th>\n",
       "      <th></th>\n",
       "    </tr>\n",
       "  </thead>\n",
       "  <tbody>\n",
       "    <tr>\n",
       "      <th>C1010012</th>\n",
       "      <td>0.477551</td>\n",
       "      <td>0.0</td>\n",
       "      <td>0.434493</td>\n",
       "      <td>0.000000</td>\n",
       "      <td>2</td>\n",
       "      <td>1</td>\n",
       "      <td>5</td>\n",
       "      <td>2.67</td>\n",
       "      <td>3. Average Customers</td>\n",
       "    </tr>\n",
       "    <tr>\n",
       "      <th>C1010014</th>\n",
       "      <td>0.628571</td>\n",
       "      <td>0.2</td>\n",
       "      <td>0.421739</td>\n",
       "      <td>0.842810</td>\n",
       "      <td>1</td>\n",
       "      <td>5</td>\n",
       "      <td>5</td>\n",
       "      <td>3.67</td>\n",
       "      <td>2. Good Customers</td>\n",
       "    </tr>\n",
       "    <tr>\n",
       "      <th>C1010018</th>\n",
       "      <td>0.346939</td>\n",
       "      <td>0.0</td>\n",
       "      <td>0.008696</td>\n",
       "      <td>0.724200</td>\n",
       "      <td>4</td>\n",
       "      <td>4</td>\n",
       "      <td>1</td>\n",
       "      <td>3.00</td>\n",
       "      <td>3. Average Customers</td>\n",
       "    </tr>\n",
       "    <tr>\n",
       "      <th>C1010028</th>\n",
       "      <td>0.416327</td>\n",
       "      <td>0.0</td>\n",
       "      <td>0.161449</td>\n",
       "      <td>0.724204</td>\n",
       "      <td>3</td>\n",
       "      <td>4</td>\n",
       "      <td>3</td>\n",
       "      <td>3.33</td>\n",
       "      <td>2. Good Customers</td>\n",
       "    </tr>\n",
       "    <tr>\n",
       "      <th>C1010031</th>\n",
       "      <td>1.000000</td>\n",
       "      <td>0.2</td>\n",
       "      <td>0.540290</td>\n",
       "      <td>0.842835</td>\n",
       "      <td>1</td>\n",
       "      <td>5</td>\n",
       "      <td>5</td>\n",
       "      <td>3.67</td>\n",
       "      <td>2. Good Customers</td>\n",
       "    </tr>\n",
       "  </tbody>\n",
       "</table>\n",
       "</div>"
      ],
      "text/plain": [
       "             Recency  Frequency  Monetary  Freq_Rank  R_Group  F_Group  \\\n",
       "CustomerID                                                               \n",
       "C1010012    0.477551        0.0  0.434493   0.000000        2        1   \n",
       "C1010014    0.628571        0.2  0.421739   0.842810        1        5   \n",
       "C1010018    0.346939        0.0  0.008696   0.724200        4        4   \n",
       "C1010028    0.416327        0.0  0.161449   0.724204        3        4   \n",
       "C1010031    1.000000        0.2  0.540290   0.842835        1        5   \n",
       "\n",
       "            M_Group  RFM_Score               Segment  \n",
       "CustomerID                                            \n",
       "C1010012          5       2.67  3. Average Customers  \n",
       "C1010014          5       3.67     2. Good Customers  \n",
       "C1010018          1       3.00  3. Average Customers  \n",
       "C1010028          3       3.33     2. Good Customers  \n",
       "C1010031          5       3.67     2. Good Customers  "
      ]
     },
     "execution_count": 54,
     "metadata": {},
     "output_type": "execute_result"
    }
   ],
   "source": [
    "data_bin.head()"
   ]
  },
  {
   "cell_type": "code",
   "execution_count": 55,
   "id": "2227d32b",
   "metadata": {},
   "outputs": [],
   "source": [
    "# Transform balik\n",
    "for col in ['Recency', 'Frequency', 'Monetary']:\n",
    "    # inverse transform X\n",
    "    x = data_bin[col]\n",
    "\n",
    "    # Find index\n",
    "    idx = scaler.feature_names_in_.tolist().index(col)\n",
    "    max_val = scaler.data_max_[idx]\n",
    "    min_val = scaler.data_min_[idx]\n",
    "\n",
    "    # Inverse transform\n",
    "    data_bin[col] = x*(max_val-min_val) + min_val"
   ]
  },
  {
   "cell_type": "code",
   "execution_count": 56,
   "id": "cdb7d3df",
   "metadata": {},
   "outputs": [
    {
     "data": {
      "image/png": "[encoded data removed]",
      "text/plain": [
       "<Figure size 720x1440 with 3 Axes>"
      ]
     },
     "metadata": {
      "needs_background": "light"
     },
     "output_type": "display_data"
    }
   ],
   "source": [
    "# Plot\n",
    "fig, axes = plt.subplots(nrows=3, ncols=1, figsize=(10, 20))\n",
    "\n",
    "for i, col in enumerate(['Recency', 'Frequency', 'Monetary']):\n",
    "    sns.boxplot(data = data_bin,\n",
    "                y = 'Segment',\n",
    "                x = col,\n",
    "                ax = axes[i])\n",
    "\n",
    "    axes[i].set_title(f'{col} Distribution')\n",
    "\n",
    "plt.tight_layout()\n",
    "plt.show()"
   ]
  },
  {
   "cell_type": "code",
   "execution_count": 57,
   "id": "52d7d462",
   "metadata": {},
   "outputs": [
    {
     "data": {
      "text/html": [
       "<div>\n",
       "<style scoped>\n",
       "    .dataframe tbody tr th:only-of-type {\n",
       "        vertical-align: middle;\n",
       "    }\n",
       "\n",
       "    .dataframe tbody tr th {\n",
       "        vertical-align: top;\n",
       "    }\n",
       "\n",
       "    .dataframe thead th {\n",
       "        text-align: right;\n",
       "    }\n",
       "</style>\n",
       "<table border=\"1\" class=\"dataframe\">\n",
       "  <thead>\n",
       "    <tr style=\"text-align: right;\">\n",
       "      <th></th>\n",
       "      <th>Recency</th>\n",
       "      <th>Frequency</th>\n",
       "      <th>Monetary</th>\n",
       "      <th>Segment</th>\n",
       "    </tr>\n",
       "    <tr>\n",
       "      <th>Segment</th>\n",
       "      <th></th>\n",
       "      <th></th>\n",
       "      <th></th>\n",
       "      <th></th>\n",
       "    </tr>\n",
       "  </thead>\n",
       "  <tbody>\n",
       "    <tr>\n",
       "      <th>5. At Risk Customers</th>\n",
       "      <td>2047.16</td>\n",
       "      <td>1.00</td>\n",
       "      <td>59.90</td>\n",
       "      <td>6046</td>\n",
       "    </tr>\n",
       "    <tr>\n",
       "      <th>4. Below Average Customers</th>\n",
       "      <td>1997.44</td>\n",
       "      <td>1.00</td>\n",
       "      <td>207.01</td>\n",
       "      <td>120763</td>\n",
       "    </tr>\n",
       "    <tr>\n",
       "      <th>3. Average Customers</th>\n",
       "      <td>1963.43</td>\n",
       "      <td>1.02</td>\n",
       "      <td>560.45</td>\n",
       "      <td>282574</td>\n",
       "    </tr>\n",
       "    <tr>\n",
       "      <th>2. Good Customers</th>\n",
       "      <td>1936.91</td>\n",
       "      <td>1.23</td>\n",
       "      <td>1020.92</td>\n",
       "      <td>211811</td>\n",
       "    </tr>\n",
       "    <tr>\n",
       "      <th>1. Best Customers</th>\n",
       "      <td>1910.01</td>\n",
       "      <td>1.84</td>\n",
       "      <td>1613.08</td>\n",
       "      <td>82502</td>\n",
       "    </tr>\n",
       "  </tbody>\n",
       "</table>\n",
       "</div>"
      ],
      "text/plain": [
       "                            Recency  Frequency  Monetary  Segment\n",
       "Segment                                                          \n",
       "5. At Risk Customers        2047.16       1.00     59.90     6046\n",
       "4. Below Average Customers  1997.44       1.00    207.01   120763\n",
       "3. Average Customers        1963.43       1.02    560.45   282574\n",
       "2. Good Customers           1936.91       1.23   1020.92   211811\n",
       "1. Best Customers           1910.01       1.84   1613.08    82502"
      ]
     },
     "execution_count": 57,
     "metadata": {},
     "output_type": "execute_result"
    }
   ],
   "source": [
    "# groupby to get aggregate mean of each RFM variable\n",
    "data_bin.groupby('Segment').agg({'Recency':'mean',\n",
    "                                 'Frequency':'mean',\n",
    "                                 'Monetary':'mean',\n",
    "                                 'Segment':'count'}).round(2)"
   ]
  },
  {
   "cell_type": "code",
   "execution_count": 58,
   "id": "060ed5eb",
   "metadata": {},
   "outputs": [
    {
     "data": {
      "text/plain": [
       "3. Average Customers          282574\n",
       "2. Good Customers             211811\n",
       "4. Below Average Customers    120763\n",
       "1. Best Customers              82502\n",
       "5. At Risk Customers            6046\n",
       "Name: Segment, dtype: int64"
      ]
     },
     "execution_count": 58,
     "metadata": {},
     "output_type": "execute_result"
    }
   ],
   "source": [
    "data_bin['Segment'].value_counts()"
   ]
  },
  {
   "cell_type": "markdown",
   "id": "b62511f7",
   "metadata": {},
   "source": [
    "## 4.2. K-Means Clustering"
   ]
  },
  {
   "cell_type": "code",
   "execution_count": 59,
   "id": "e33843a2",
   "metadata": {},
   "outputs": [],
   "source": [
    "from sklearn.cluster import KMeans"
   ]
  },
  {
   "cell_type": "code",
   "execution_count": 60,
   "id": "b2ca933d",
   "metadata": {},
   "outputs": [],
   "source": [
    "data_cluster_clean = data_clean[['Recency', 'Frequency', 'Monetary']]"
   ]
  },
  {
   "cell_type": "code",
   "execution_count": 73,
   "id": "120d66e2",
   "metadata": {},
   "outputs": [],
   "source": [
    "# Set empty list\n",
    "inertia = []\n",
    "\n",
    "# iterate for\n",
    "for k in range(1, 11):\n",
    "    # create\n",
    "    kmeans = KMeans(n_clusters=k, random_state=42, n_init=10)\n",
    "\n",
    "    # fit object\n",
    "    kmeans.fit(data_cluster_clean)\n",
    "\n",
    "    # append results\n",
    "    inertia.append(kmeans.inertia_)\n"
   ]
  },
  {
   "cell_type": "code",
   "execution_count": 62,
   "id": "cd92378d",
   "metadata": {},
   "outputs": [
    {
     "data": {
      "text/plain": [
       "Text(0.5, 1.0, 'Elbow Method')"
      ]
     },
     "execution_count": 62,
     "metadata": {},
     "output_type": "execute_result"
    },
    {
     "data": {
      "image/png": "[encoded data removed]",
      "text/plain": [
       "<Figure size 576x288 with 1 Axes>"
      ]
     },
     "metadata": {
      "needs_background": "light"
     },
     "output_type": "display_data"
    }
   ],
   "source": [
    "plt.figure(figsize=(8, 4))\n",
    "\n",
    "# plt.plot(inertia)\n",
    "sns.lineplot(x=range(1, 11), y=inertia, color='#000087',\n",
    "             linewidth = 4, marker='o', markersize=10,\n",
    "             markerfacecolor='red')\n",
    "\n",
    "plt.xlabel('Jumlah Cluster', fontsize=12)\n",
    "plt.ylabel('Inertia', fontsize=12)\n",
    "plt.title('Elbow Method', fontsize=20)"
   ]
  },
  {
   "cell_type": "code",
   "execution_count": 63,
   "id": "4314d0e3",
   "metadata": {},
   "outputs": [
    {
     "data": {
      "text/plain": [
       "KMeans(n_clusters=3, n_init=50, random_state=42)"
      ]
     },
     "execution_count": 63,
     "metadata": {},
     "output_type": "execute_result"
    }
   ],
   "source": [
    "kmeans_best = KMeans(n_clusters = 3,\n",
    "                     random_state = 42,\n",
    "                     n_init = 10)\n",
    "\n",
    "kmeans_best.fit(data_cluster_clean)"
   ]
  },
  {
   "cell_type": "code",
   "execution_count": 64,
   "id": "340b2fd9",
   "metadata": {},
   "outputs": [
    {
     "data": {
      "text/plain": [
       "array([1, 1, 0, ..., 0, 0, 0])"
      ]
     },
     "execution_count": 64,
     "metadata": {},
     "output_type": "execute_result"
    }
   ],
   "source": [
    "data_label = kmeans_best.predict(data_cluster_clean)\n",
    "data_label"
   ]
  },
  {
   "cell_type": "code",
   "execution_count": 65,
   "id": "14d14401",
   "metadata": {},
   "outputs": [],
   "source": [
    "centroids = kmeans_best.cluster_centers_"
   ]
  },
  {
   "cell_type": "code",
   "execution_count": 66,
   "id": "ed49731c",
   "metadata": {},
   "outputs": [
    {
     "data": {
      "text/html": [
       "<div>\n",
       "<style scoped>\n",
       "    .dataframe tbody tr th:only-of-type {\n",
       "        vertical-align: middle;\n",
       "    }\n",
       "\n",
       "    .dataframe tbody tr th {\n",
       "        vertical-align: top;\n",
       "    }\n",
       "\n",
       "    .dataframe thead th {\n",
       "        text-align: right;\n",
       "    }\n",
       "</style>\n",
       "<table border=\"1\" class=\"dataframe\">\n",
       "  <thead>\n",
       "    <tr style=\"text-align: right;\">\n",
       "      <th></th>\n",
       "      <th>Recency</th>\n",
       "      <th>Frequency</th>\n",
       "      <th>Monetary</th>\n",
       "    </tr>\n",
       "    <tr>\n",
       "      <th>Cluster</th>\n",
       "      <th></th>\n",
       "      <th></th>\n",
       "      <th></th>\n",
       "    </tr>\n",
       "  </thead>\n",
       "  <tbody>\n",
       "    <tr>\n",
       "      <th>0</th>\n",
       "      <td>0.360005</td>\n",
       "      <td>0.027314</td>\n",
       "      <td>0.117402</td>\n",
       "    </tr>\n",
       "    <tr>\n",
       "      <th>1</th>\n",
       "      <td>0.391601</td>\n",
       "      <td>0.081360</td>\n",
       "      <td>0.604368</td>\n",
       "    </tr>\n",
       "    <tr>\n",
       "      <th>2</th>\n",
       "      <td>0.815880</td>\n",
       "      <td>0.010373</td>\n",
       "      <td>0.156777</td>\n",
       "    </tr>\n",
       "  </tbody>\n",
       "</table>\n",
       "</div>"
      ],
      "text/plain": [
       "          Recency  Frequency  Monetary\n",
       "Cluster                               \n",
       "0        0.360005   0.027314  0.117402\n",
       "1        0.391601   0.081360  0.604368\n",
       "2        0.815880   0.010373  0.156777"
      ]
     },
     "execution_count": 66,
     "metadata": {},
     "output_type": "execute_result"
    }
   ],
   "source": [
    "centroid_df = pd.DataFrame(centroids,\n",
    "                           columns=['Recency', 'Frequency', 'Monetary']).rename_axis('Cluster', axis='index')\n",
    "\n",
    "centroid_df"
   ]
  },
  {
   "cell_type": "markdown",
   "id": "1d28c7f3",
   "metadata": {},
   "source": [
    "### **Analysis**"
   ]
  },
  {
   "cell_type": "code",
   "execution_count": 67,
   "id": "970fe9ed",
   "metadata": {},
   "outputs": [
    {
     "data": {
      "text/html": [
       "<div>\n",
       "<style scoped>\n",
       "    .dataframe tbody tr th:only-of-type {\n",
       "        vertical-align: middle;\n",
       "    }\n",
       "\n",
       "    .dataframe tbody tr th {\n",
       "        vertical-align: top;\n",
       "    }\n",
       "\n",
       "    .dataframe thead th {\n",
       "        text-align: right;\n",
       "    }\n",
       "</style>\n",
       "<table border=\"1\" class=\"dataframe\">\n",
       "  <thead>\n",
       "    <tr style=\"text-align: right;\">\n",
       "      <th></th>\n",
       "      <th>Recency</th>\n",
       "      <th>Frequency</th>\n",
       "      <th>Monetary</th>\n",
       "      <th>label</th>\n",
       "    </tr>\n",
       "    <tr>\n",
       "      <th>CustomerID</th>\n",
       "      <th></th>\n",
       "      <th></th>\n",
       "      <th></th>\n",
       "      <th></th>\n",
       "    </tr>\n",
       "  </thead>\n",
       "  <tbody>\n",
       "    <tr>\n",
       "      <th>C1010012</th>\n",
       "      <td>1965.0</td>\n",
       "      <td>1.0</td>\n",
       "      <td>1499.0</td>\n",
       "      <td>1</td>\n",
       "    </tr>\n",
       "    <tr>\n",
       "      <th>C1010014</th>\n",
       "      <td>2002.0</td>\n",
       "      <td>2.0</td>\n",
       "      <td>1455.0</td>\n",
       "      <td>1</td>\n",
       "    </tr>\n",
       "    <tr>\n",
       "      <th>C1010018</th>\n",
       "      <td>1933.0</td>\n",
       "      <td>1.0</td>\n",
       "      <td>30.0</td>\n",
       "      <td>0</td>\n",
       "    </tr>\n",
       "    <tr>\n",
       "      <th>C1010028</th>\n",
       "      <td>1950.0</td>\n",
       "      <td>1.0</td>\n",
       "      <td>557.0</td>\n",
       "      <td>0</td>\n",
       "    </tr>\n",
       "    <tr>\n",
       "      <th>C1010031</th>\n",
       "      <td>2093.0</td>\n",
       "      <td>2.0</td>\n",
       "      <td>1864.0</td>\n",
       "      <td>2</td>\n",
       "    </tr>\n",
       "  </tbody>\n",
       "</table>\n",
       "</div>"
      ],
      "text/plain": [
       "            Recency  Frequency  Monetary  label\n",
       "CustomerID                                     \n",
       "C1010012     1965.0        1.0    1499.0      1\n",
       "C1010014     2002.0        2.0    1455.0      1\n",
       "C1010018     1933.0        1.0      30.0      0\n",
       "C1010028     1950.0        1.0     557.0      0\n",
       "C1010031     2093.0        2.0    1864.0      2"
      ]
     },
     "execution_count": 67,
     "metadata": {},
     "output_type": "execute_result"
    }
   ],
   "source": [
    "# Transform balik\n",
    "data_cluster = pd.DataFrame(scaler.inverse_transform(data_clean))\n",
    "data_cluster.index = data_clean.index\n",
    "data_cluster.columns = data_clean.columns\n",
    "\n",
    "data_cluster = data_cluster[['Recency', 'Frequency', 'Monetary']]\n",
    "data_cluster['label'] = data_label\n",
    "data_cluster.head()"
   ]
  },
  {
   "cell_type": "code",
   "execution_count": 68,
   "id": "5c045f33",
   "metadata": {},
   "outputs": [
    {
     "data": {
      "text/html": [
       "<div>\n",
       "<style scoped>\n",
       "    .dataframe tbody tr th:only-of-type {\n",
       "        vertical-align: middle;\n",
       "    }\n",
       "\n",
       "    .dataframe tbody tr th {\n",
       "        vertical-align: top;\n",
       "    }\n",
       "\n",
       "    .dataframe thead th {\n",
       "        text-align: right;\n",
       "    }\n",
       "</style>\n",
       "<table border=\"1\" class=\"dataframe\">\n",
       "  <thead>\n",
       "    <tr style=\"text-align: right;\">\n",
       "      <th></th>\n",
       "      <th>Recency</th>\n",
       "      <th>Frequency</th>\n",
       "      <th>Monetary</th>\n",
       "      <th>label</th>\n",
       "    </tr>\n",
       "    <tr>\n",
       "      <th>label</th>\n",
       "      <th></th>\n",
       "      <th></th>\n",
       "      <th></th>\n",
       "      <th></th>\n",
       "    </tr>\n",
       "  </thead>\n",
       "  <tbody>\n",
       "    <tr>\n",
       "      <th>0</th>\n",
       "      <td>1936.2</td>\n",
       "      <td>1.1</td>\n",
       "      <td>405.0</td>\n",
       "      <td>451690</td>\n",
       "    </tr>\n",
       "    <tr>\n",
       "      <th>1</th>\n",
       "      <td>1944.0</td>\n",
       "      <td>1.4</td>\n",
       "      <td>2084.9</td>\n",
       "      <td>138518</td>\n",
       "    </tr>\n",
       "    <tr>\n",
       "      <th>2</th>\n",
       "      <td>2047.9</td>\n",
       "      <td>1.1</td>\n",
       "      <td>540.4</td>\n",
       "      <td>113488</td>\n",
       "    </tr>\n",
       "  </tbody>\n",
       "</table>\n",
       "</div>"
      ],
      "text/plain": [
       "       Recency  Frequency  Monetary   label\n",
       "label                                      \n",
       "0       1936.2        1.1     405.0  451690\n",
       "1       1944.0        1.4    2084.9  138518\n",
       "2       2047.9        1.1     540.4  113488"
      ]
     },
     "execution_count": 68,
     "metadata": {},
     "output_type": "execute_result"
    }
   ],
   "source": [
    "# Calculate average values for each RFM_Level, and return a size of each segment\n",
    "data_cluster.groupby('label').agg({\n",
    "    'Recency': 'mean',\n",
    "    'Frequency': 'mean',\n",
    "    'Monetary': 'mean',\n",
    "    'label':'count',\n",
    "}).round(1)"
   ]
  },
  {
   "cell_type": "code",
   "execution_count": 80,
   "id": "9697ad02",
   "metadata": {},
   "outputs": [
    {
     "data": {
      "text/html": [
       "<div>\n",
       "<style scoped>\n",
       "    .dataframe tbody tr th:only-of-type {\n",
       "        vertical-align: middle;\n",
       "    }\n",
       "\n",
       "    .dataframe tbody tr th {\n",
       "        vertical-align: top;\n",
       "    }\n",
       "\n",
       "    .dataframe thead th {\n",
       "        text-align: right;\n",
       "    }\n",
       "</style>\n",
       "<table border=\"1\" class=\"dataframe\">\n",
       "  <thead>\n",
       "    <tr style=\"text-align: right;\">\n",
       "      <th></th>\n",
       "      <th>Recency</th>\n",
       "      <th>Frequency</th>\n",
       "      <th>Monetary</th>\n",
       "      <th>label</th>\n",
       "      <th>Segment</th>\n",
       "    </tr>\n",
       "    <tr>\n",
       "      <th>CustomerID</th>\n",
       "      <th></th>\n",
       "      <th></th>\n",
       "      <th></th>\n",
       "      <th></th>\n",
       "      <th></th>\n",
       "    </tr>\n",
       "  </thead>\n",
       "  <tbody>\n",
       "    <tr>\n",
       "      <th>C1010012</th>\n",
       "      <td>1965.0</td>\n",
       "      <td>1.0</td>\n",
       "      <td>1499.0</td>\n",
       "      <td>1</td>\n",
       "      <td>1. Best Customer</td>\n",
       "    </tr>\n",
       "    <tr>\n",
       "      <th>C1010014</th>\n",
       "      <td>2002.0</td>\n",
       "      <td>2.0</td>\n",
       "      <td>1455.0</td>\n",
       "      <td>1</td>\n",
       "      <td>1. Best Customer</td>\n",
       "    </tr>\n",
       "    <tr>\n",
       "      <th>C1010018</th>\n",
       "      <td>1933.0</td>\n",
       "      <td>1.0</td>\n",
       "      <td>30.0</td>\n",
       "      <td>0</td>\n",
       "      <td>2. Average Customer</td>\n",
       "    </tr>\n",
       "    <tr>\n",
       "      <th>C1010028</th>\n",
       "      <td>1950.0</td>\n",
       "      <td>1.0</td>\n",
       "      <td>557.0</td>\n",
       "      <td>0</td>\n",
       "      <td>2. Average Customer</td>\n",
       "    </tr>\n",
       "    <tr>\n",
       "      <th>C1010031</th>\n",
       "      <td>2093.0</td>\n",
       "      <td>2.0</td>\n",
       "      <td>1864.0</td>\n",
       "      <td>2</td>\n",
       "      <td>3.At Risk Customer</td>\n",
       "    </tr>\n",
       "  </tbody>\n",
       "</table>\n",
       "</div>"
      ],
      "text/plain": [
       "            Recency  Frequency  Monetary  label              Segment\n",
       "CustomerID                                                          \n",
       "C1010012     1965.0        1.0    1499.0      1     1. Best Customer\n",
       "C1010014     2002.0        2.0    1455.0      1     1. Best Customer\n",
       "C1010018     1933.0        1.0      30.0      0  2. Average Customer\n",
       "C1010028     1950.0        1.0     557.0      0  2. Average Customer\n",
       "C1010031     2093.0        2.0    1864.0      2   3.At Risk Customer"
      ]
     },
     "execution_count": 80,
     "metadata": {},
     "output_type": "execute_result"
    }
   ],
   "source": [
    "# Function to assign label\n",
    "def assign_label(val):\n",
    "    \"\"\"Function to assign label\"\"\"\n",
    "    if val == 0:\n",
    "        return '2. Average Customer'\n",
    "    elif val == 1:\n",
    "        return '1. Best Customer'\n",
    "    else:\n",
    "        return '3.At Risk Customer'\n",
    "\n",
    "data_cluster['Segment'] = data_cluster['label'].apply(assign_label)\n",
    "\n",
    "# check result\n",
    "data_cluster.head()"
   ]
  },
  {
   "cell_type": "code",
   "execution_count": 81,
   "id": "0e96fc15",
   "metadata": {
    "scrolled": false
   },
   "outputs": [
    {
     "data": {
      "image/png": "[encoded data removed]",
      "text/plain": [
       "<Figure size 720x1440 with 3 Axes>"
      ]
     },
     "metadata": {
      "needs_background": "light"
     },
     "output_type": "display_data"
    }
   ],
   "source": [
    "# Plot\n",
    "fig, axes = plt.subplots(nrows=3, ncols=1, figsize=(10, 20))\n",
    "\n",
    "for i, col in enumerate(['Recency', 'Frequency', 'Monetary']):\n",
    "    sns.boxplot(data = data_cluster,\n",
    "                y = 'Segment',\n",
    "                x = col,\n",
    "                ax = axes[i])\n",
    "\n",
    "    axes[i].set_title(f'{col} Distribution')\n",
    "\n",
    "plt.tight_layout()\n",
    "plt.show()"
   ]
  },
  {
   "cell_type": "code",
   "execution_count": 82,
   "id": "7faca2bc",
   "metadata": {},
   "outputs": [
    {
     "data": {
      "text/html": [
       "<div>\n",
       "<style scoped>\n",
       "    .dataframe tbody tr th:only-of-type {\n",
       "        vertical-align: middle;\n",
       "    }\n",
       "\n",
       "    .dataframe tbody tr th {\n",
       "        vertical-align: top;\n",
       "    }\n",
       "\n",
       "    .dataframe thead th {\n",
       "        text-align: right;\n",
       "    }\n",
       "</style>\n",
       "<table border=\"1\" class=\"dataframe\">\n",
       "  <thead>\n",
       "    <tr style=\"text-align: right;\">\n",
       "      <th></th>\n",
       "      <th>Recency</th>\n",
       "      <th>Frequency</th>\n",
       "      <th>Monetary</th>\n",
       "      <th>Segment</th>\n",
       "    </tr>\n",
       "    <tr>\n",
       "      <th>Segment</th>\n",
       "      <th></th>\n",
       "      <th></th>\n",
       "      <th></th>\n",
       "      <th></th>\n",
       "    </tr>\n",
       "  </thead>\n",
       "  <tbody>\n",
       "    <tr>\n",
       "      <th>1. Best Customer</th>\n",
       "      <td>1943.98</td>\n",
       "      <td>1.41</td>\n",
       "      <td>2084.89</td>\n",
       "      <td>138518</td>\n",
       "    </tr>\n",
       "    <tr>\n",
       "      <th>2. Average Customer</th>\n",
       "      <td>1936.20</td>\n",
       "      <td>1.14</td>\n",
       "      <td>404.99</td>\n",
       "      <td>451690</td>\n",
       "    </tr>\n",
       "    <tr>\n",
       "      <th>3.At Risk Customer</th>\n",
       "      <td>2047.89</td>\n",
       "      <td>1.05</td>\n",
       "      <td>540.40</td>\n",
       "      <td>113488</td>\n",
       "    </tr>\n",
       "  </tbody>\n",
       "</table>\n",
       "</div>"
      ],
      "text/plain": [
       "                     Recency  Frequency  Monetary  Segment\n",
       "Segment                                                   \n",
       "1. Best Customer     1943.98       1.41   2084.89   138518\n",
       "2. Average Customer  1936.20       1.14    404.99   451690\n",
       "3.At Risk Customer   2047.89       1.05    540.40   113488"
      ]
     },
     "execution_count": 82,
     "metadata": {},
     "output_type": "execute_result"
    }
   ],
   "source": [
    "# groupby to get aggregate mean of each RFM variable\n",
    "data_cluster.groupby('Segment').agg({'Recency':'mean',\n",
    "                                 'Frequency':'mean',\n",
    "                                 'Monetary':'mean',\n",
    "                                 'Segment':'count'}).round(2)"
   ]
  }
 ],
 "metadata": {
  "kernelspec": {
   "display_name": "Python 3 (ipykernel)",
   "language": "python",
   "name": "python3"
  },
  "language_info": {
   "codemirror_mode": {
    "name": "ipython",
    "version": 3
   },
   "file_extension": ".py",
   "mimetype": "text/x-python",
   "name": "python",
   "nbconvert_exporter": "python",
   "pygments_lexer": "ipython3",
   "version": "3.9.12"
  }
 },
 "nbformat": 4,
 "nbformat_minor": 5
}
